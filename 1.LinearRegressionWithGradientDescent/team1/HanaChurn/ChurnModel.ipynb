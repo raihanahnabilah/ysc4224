{
 "cells": [
  {
   "cell_type": "markdown",
   "id": "ffc4550a",
   "metadata": {},
   "source": [
    "#### Load Libraries"
   ]
  },
  {
   "cell_type": "code",
   "execution_count": 72,
   "id": "0bb09d9a",
   "metadata": {},
   "outputs": [],
   "source": [
    "import math\n",
    "import pandas as pd\n",
    "import numpy as np\n",
    "import matplotlib.pyplot as plt\n",
    "import seaborn as sns\n",
    "from sklearn.decomposition import PCA\n",
    "from sklearn.preprocessing import StandardScaler\n",
    "from sklearn.cluster import KMeans\n",
    "from sklearn.metrics import silhouette_score, confusion_matrix, accuracy_score, precision_score, recall_score, f1_score, roc_auc_score\n",
    "from sklearn.metrics.cluster import contingency_matrix\n",
    "from sklearn import preprocessing\n",
    "from sklearn.linear_model import LogisticRegression\n",
    "from sklearn.model_selection import train_test_split\n",
    "from pylab import scatter, show, legend, xlabel, ylabel\n",
    "from sklearn.preprocessing import MinMaxScaler \n",
    "from sklearn.model_selection import KFold\n",
    "import plotly.graph_objects as go\n"
   ]
  },
  {
   "cell_type": "markdown",
   "id": "c856e8b4",
   "metadata": {},
   "source": [
    "### Load Data"
   ]
  },
  {
   "cell_type": "code",
   "execution_count": 2,
   "id": "0f28d36d",
   "metadata": {},
   "outputs": [],
   "source": [
    "df = pd.read_csv('Telco-Customer-Churn.csv')"
   ]
  },
  {
   "cell_type": "markdown",
   "id": "b85e0ee9",
   "metadata": {},
   "source": [
    "### Data Cleaning"
   ]
  },
  {
   "cell_type": "code",
   "execution_count": 3,
   "id": "3e4b95b5",
   "metadata": {},
   "outputs": [
    {
     "data": {
      "text/plain": [
       "customerID           object\n",
       "gender               object\n",
       "SeniorCitizen         int64\n",
       "Partner              object\n",
       "Dependents           object\n",
       "tenure                int64\n",
       "PhoneService         object\n",
       "MultipleLines        object\n",
       "InternetService      object\n",
       "OnlineSecurity       object\n",
       "OnlineBackup         object\n",
       "DeviceProtection     object\n",
       "TechSupport          object\n",
       "StreamingTV          object\n",
       "StreamingMovies      object\n",
       "Contract             object\n",
       "PaperlessBilling     object\n",
       "PaymentMethod        object\n",
       "MonthlyCharges      float64\n",
       "TotalCharges         object\n",
       "Churn                object\n",
       "dtype: object"
      ]
     },
     "execution_count": 3,
     "metadata": {},
     "output_type": "execute_result"
    }
   ],
   "source": [
    "df.dtypes"
   ]
  },
  {
   "cell_type": "code",
   "execution_count": 4,
   "id": "19dac80e",
   "metadata": {},
   "outputs": [],
   "source": [
    "df[\"SeniorCitizen\"] = df[\"SeniorCitizen\"].apply(lambda x: \"Yes\" if x == 1 else \"No\")\n",
    "df[\"SeniorCitizen\"] = df[\"SeniorCitizen\"].astype(\"category\")\n",
    "\n",
    "df['TotalCharges'] = np.where(df['TotalCharges'] == ' ', 0, df['TotalCharges'])\n",
    "df['TotalCharges'] = df['TotalCharges'].astype(float)"
   ]
  },
  {
   "cell_type": "markdown",
   "id": "4852a766",
   "metadata": {},
   "source": [
    "### Exploratory Data Analysis\n",
    "\n",
    "You can leverage what done in one of the previous assignments, recreate it and expand it."
   ]
  },
  {
   "cell_type": "code",
   "execution_count": null,
   "id": "3058ff5c",
   "metadata": {},
   "outputs": [],
   "source": []
  },
  {
   "cell_type": "code",
   "execution_count": null,
   "id": "2a6254d0",
   "metadata": {},
   "outputs": [],
   "source": []
  },
  {
   "cell_type": "markdown",
   "id": "5a6cb550",
   "metadata": {},
   "source": [
    "Remove data that's related to their demographics. Replace the churn data to 0 or 1 values instead of churn or not churn. "
   ]
  },
  {
   "cell_type": "code",
   "execution_count": 5,
   "id": "692e0455",
   "metadata": {},
   "outputs": [],
   "source": [
    "data = df.copy()\n",
    "data['Churn'] = data['Churn'].replace({'No': 0, 'Yes': 1})\n",
    "data.drop(['customerID', 'gender', 'SeniorCitizen', 'Partner', 'Dependents'], axis=1, inplace=True)\n",
    "\n"
   ]
  },
  {
   "cell_type": "markdown",
   "id": "529f04c2",
   "metadata": {},
   "source": [
    "### Feature Engineering and Analysis\n",
    "Think about any possible feature that is predictive of the target.  \n",
    "Measure how each feature is predictive of the target and select all those relevant for the model."
   ]
  },
  {
   "cell_type": "markdown",
   "id": "cecfe00a",
   "metadata": {},
   "source": []
  },
  {
   "cell_type": "code",
   "execution_count": 1,
   "id": "e67a410a",
   "metadata": {},
   "outputs": [],
   "source": []
  },
  {
   "cell_type": "markdown",
   "id": "930e05ac",
   "metadata": {},
   "source": [
    "### Logistic Regressions"
   ]
  },
  {
   "cell_type": "code",
   "execution_count": null,
   "id": "eea7c505",
   "metadata": {},
   "outputs": [],
   "source": []
  },
  {
   "cell_type": "markdown",
   "id": "c461d0ed",
   "metadata": {},
   "source": [
    "### Configure the model using an appropriate classification technique"
   ]
  },
  {
   "cell_type": "markdown",
   "id": "d457e47a",
   "metadata": {},
   "source": [
    "#### Using the Numerical variables"
   ]
  },
  {
   "cell_type": "code",
   "execution_count": 20,
   "id": "0e430ee5",
   "metadata": {},
   "outputs": [],
   "source": [
    "# The numerical variables\n",
    "numeric_vars = data[['tenure', 'TotalCharges', 'MonthlyCharges']]"
   ]
  },
  {
   "cell_type": "code",
   "execution_count": 21,
   "id": "1855ef90",
   "metadata": {},
   "outputs": [
    {
     "data": {
      "text/html": [
       "<div>\n",
       "<style scoped>\n",
       "    .dataframe tbody tr th:only-of-type {\n",
       "        vertical-align: middle;\n",
       "    }\n",
       "\n",
       "    .dataframe tbody tr th {\n",
       "        vertical-align: top;\n",
       "    }\n",
       "\n",
       "    .dataframe thead th {\n",
       "        text-align: right;\n",
       "    }\n",
       "</style>\n",
       "<table border=\"1\" class=\"dataframe\">\n",
       "  <thead>\n",
       "    <tr style=\"text-align: right;\">\n",
       "      <th></th>\n",
       "      <th>tenure</th>\n",
       "      <th>TotalCharges</th>\n",
       "      <th>MonthlyCharges</th>\n",
       "    </tr>\n",
       "  </thead>\n",
       "  <tbody>\n",
       "    <tr>\n",
       "      <th>0</th>\n",
       "      <td>0.013889</td>\n",
       "      <td>0.003437</td>\n",
       "      <td>0.115423</td>\n",
       "    </tr>\n",
       "    <tr>\n",
       "      <th>1</th>\n",
       "      <td>0.472222</td>\n",
       "      <td>0.217564</td>\n",
       "      <td>0.385075</td>\n",
       "    </tr>\n",
       "    <tr>\n",
       "      <th>2</th>\n",
       "      <td>0.027778</td>\n",
       "      <td>0.012453</td>\n",
       "      <td>0.354229</td>\n",
       "    </tr>\n",
       "    <tr>\n",
       "      <th>3</th>\n",
       "      <td>0.625000</td>\n",
       "      <td>0.211951</td>\n",
       "      <td>0.239303</td>\n",
       "    </tr>\n",
       "    <tr>\n",
       "      <th>4</th>\n",
       "      <td>0.027778</td>\n",
       "      <td>0.017462</td>\n",
       "      <td>0.521891</td>\n",
       "    </tr>\n",
       "    <tr>\n",
       "      <th>...</th>\n",
       "      <td>...</td>\n",
       "      <td>...</td>\n",
       "      <td>...</td>\n",
       "    </tr>\n",
       "    <tr>\n",
       "      <th>7038</th>\n",
       "      <td>0.333333</td>\n",
       "      <td>0.229194</td>\n",
       "      <td>0.662189</td>\n",
       "    </tr>\n",
       "    <tr>\n",
       "      <th>7039</th>\n",
       "      <td>1.000000</td>\n",
       "      <td>0.847792</td>\n",
       "      <td>0.845274</td>\n",
       "    </tr>\n",
       "    <tr>\n",
       "      <th>7040</th>\n",
       "      <td>0.152778</td>\n",
       "      <td>0.039892</td>\n",
       "      <td>0.112935</td>\n",
       "    </tr>\n",
       "    <tr>\n",
       "      <th>7041</th>\n",
       "      <td>0.055556</td>\n",
       "      <td>0.035303</td>\n",
       "      <td>0.558706</td>\n",
       "    </tr>\n",
       "    <tr>\n",
       "      <th>7042</th>\n",
       "      <td>0.916667</td>\n",
       "      <td>0.788101</td>\n",
       "      <td>0.869652</td>\n",
       "    </tr>\n",
       "  </tbody>\n",
       "</table>\n",
       "<p>7043 rows × 3 columns</p>\n",
       "</div>"
      ],
      "text/plain": [
       "        tenure  TotalCharges  MonthlyCharges\n",
       "0     0.013889      0.003437        0.115423\n",
       "1     0.472222      0.217564        0.385075\n",
       "2     0.027778      0.012453        0.354229\n",
       "3     0.625000      0.211951        0.239303\n",
       "4     0.027778      0.017462        0.521891\n",
       "...        ...           ...             ...\n",
       "7038  0.333333      0.229194        0.662189\n",
       "7039  1.000000      0.847792        0.845274\n",
       "7040  0.152778      0.039892        0.112935\n",
       "7041  0.055556      0.035303        0.558706\n",
       "7042  0.916667      0.788101        0.869652\n",
       "\n",
       "[7043 rows x 3 columns]"
      ]
     },
     "execution_count": 21,
     "metadata": {},
     "output_type": "execute_result"
    }
   ],
   "source": [
    "# Standardize numerical variables\n",
    "scaler = MinMaxScaler()\n",
    "scaler = scaler.fit(numeric_vars)\n",
    "scaled = scaler.fit_transform(numeric_vars)\n",
    "scaled_df = pd.DataFrame(scaled, columns = numeric_vars.columns)\n",
    "scaled_df"
   ]
  },
  {
   "cell_type": "code",
   "execution_count": 22,
   "id": "f48f8d24",
   "metadata": {},
   "outputs": [],
   "source": [
    "x = scaled\n",
    "y = data[\"Churn\"]"
   ]
  },
  {
   "cell_type": "code",
   "execution_count": 23,
   "id": "d6c55458",
   "metadata": {},
   "outputs": [
    {
     "name": "stdout",
     "output_type": "stream",
     "text": [
      "[0 0 0 ... 1 1 0]\n",
      "Score Scikit learn:  0.78708303761533\n"
     ]
    }
   ],
   "source": [
    "# Scikit learn implementation just to check\n",
    "x_train, x_test, y_train, y_test = train_test_split(x, y, test_size=0.2, random_state=13)\n",
    "\n",
    "lr_model = LogisticRegression(random_state = 13, solver = \"saga\")\n",
    "lr_model = lr_model.fit(x_train, y_train)\n",
    "y_pred = lr_model.predict(x_test)\n",
    "print(y_pred)\n",
    "\n",
    "scikit_score = lr_model.score(x_test, y_test)\n",
    "print(\"Score Scikit learn: \", scikit_score)"
   ]
  },
  {
   "cell_type": "code",
   "execution_count": 24,
   "id": "7c120657",
   "metadata": {},
   "outputs": [
    {
     "name": "stdout",
     "output_type": "stream",
     "text": [
      "Confusion Matrix:\n",
      "True Negative:  946 \tFalse Positive:  102\n",
      "False Negative:  198 \tTrue Positive:  163\n",
      "\n",
      "Evaluation Metrics: \n",
      "Accuracy:  0.78708303761533\n",
      "Precision:  0.6150943396226415\n",
      "Recall/Sensitivity:  0.4515235457063712\n",
      "F1 Score/Specificity:  0.5207667731629393\n",
      "AUC:  0.677097650715781\n"
     ]
    }
   ],
   "source": [
    "# Create confusion matrix\n",
    "tn1, fp1, fn1, tp1 = confusion_matrix(y_test, y_pred).ravel()\n",
    "\n",
    "# Calculate evaluation metrics\n",
    "accuracy1 = accuracy_score(y_test, y_pred)\n",
    "precision1 = precision_score(y_test, y_pred)\n",
    "recall1 = recall_score(y_test, y_pred)\n",
    "f11 = f1_score(y_test, y_pred)\n",
    "\n",
    "# Print confusion matrix and evaluation metrics\n",
    "print('Confusion Matrix:')\n",
    "print('True Negative: ', tn1, '\\tFalse Positive: ', fp1)\n",
    "print('False Negative: ', fn1, '\\tTrue Positive: ', tp1)\n",
    "\n",
    "print('\\nEvaluation Metrics: ')\n",
    "print('Accuracy: ', accuracy1)\n",
    "print('Precision: ', precision1)\n",
    "print('Recall/Sensitivity: ', recall1)\n",
    "print('F1 Score/Specificity: ', f11)\n",
    "\n",
    "# Calculate AUC\n",
    "auc1 = roc_auc_score(y_test, y_pred)\n",
    "print('AUC: ', auc1)"
   ]
  },
  {
   "cell_type": "markdown",
   "id": "ee817d7d",
   "metadata": {},
   "source": [
    "#### Using the mixed of numerical and non-numerical"
   ]
  },
  {
   "cell_type": "code",
   "execution_count": 25,
   "id": "39b91cbd",
   "metadata": {},
   "outputs": [
    {
     "data": {
      "text/html": [
       "<div>\n",
       "<style scoped>\n",
       "    .dataframe tbody tr th:only-of-type {\n",
       "        vertical-align: middle;\n",
       "    }\n",
       "\n",
       "    .dataframe tbody tr th {\n",
       "        vertical-align: top;\n",
       "    }\n",
       "\n",
       "    .dataframe thead th {\n",
       "        text-align: right;\n",
       "    }\n",
       "</style>\n",
       "<table border=\"1\" class=\"dataframe\">\n",
       "  <thead>\n",
       "    <tr style=\"text-align: right;\">\n",
       "      <th></th>\n",
       "      <th>tenure</th>\n",
       "      <th>MonthlyCharges</th>\n",
       "      <th>TotalCharges</th>\n",
       "      <th>Churn</th>\n",
       "      <th>PhoneService_No</th>\n",
       "      <th>PhoneService_Yes</th>\n",
       "      <th>MultipleLines_No</th>\n",
       "      <th>MultipleLines_No phone service</th>\n",
       "      <th>MultipleLines_Yes</th>\n",
       "      <th>InternetService_DSL</th>\n",
       "      <th>...</th>\n",
       "      <th>StreamingMovies_Yes</th>\n",
       "      <th>Contract_Month-to-month</th>\n",
       "      <th>Contract_One year</th>\n",
       "      <th>Contract_Two year</th>\n",
       "      <th>PaperlessBilling_No</th>\n",
       "      <th>PaperlessBilling_Yes</th>\n",
       "      <th>PaymentMethod_Bank transfer (automatic)</th>\n",
       "      <th>PaymentMethod_Credit card (automatic)</th>\n",
       "      <th>PaymentMethod_Electronic check</th>\n",
       "      <th>PaymentMethod_Mailed check</th>\n",
       "    </tr>\n",
       "  </thead>\n",
       "  <tbody>\n",
       "    <tr>\n",
       "      <th>0</th>\n",
       "      <td>1</td>\n",
       "      <td>29.85</td>\n",
       "      <td>29.85</td>\n",
       "      <td>0</td>\n",
       "      <td>1</td>\n",
       "      <td>0</td>\n",
       "      <td>0</td>\n",
       "      <td>1</td>\n",
       "      <td>0</td>\n",
       "      <td>1</td>\n",
       "      <td>...</td>\n",
       "      <td>0</td>\n",
       "      <td>1</td>\n",
       "      <td>0</td>\n",
       "      <td>0</td>\n",
       "      <td>0</td>\n",
       "      <td>1</td>\n",
       "      <td>0</td>\n",
       "      <td>0</td>\n",
       "      <td>1</td>\n",
       "      <td>0</td>\n",
       "    </tr>\n",
       "    <tr>\n",
       "      <th>1</th>\n",
       "      <td>34</td>\n",
       "      <td>56.95</td>\n",
       "      <td>1889.50</td>\n",
       "      <td>0</td>\n",
       "      <td>0</td>\n",
       "      <td>1</td>\n",
       "      <td>1</td>\n",
       "      <td>0</td>\n",
       "      <td>0</td>\n",
       "      <td>1</td>\n",
       "      <td>...</td>\n",
       "      <td>0</td>\n",
       "      <td>0</td>\n",
       "      <td>1</td>\n",
       "      <td>0</td>\n",
       "      <td>1</td>\n",
       "      <td>0</td>\n",
       "      <td>0</td>\n",
       "      <td>0</td>\n",
       "      <td>0</td>\n",
       "      <td>1</td>\n",
       "    </tr>\n",
       "    <tr>\n",
       "      <th>2</th>\n",
       "      <td>2</td>\n",
       "      <td>53.85</td>\n",
       "      <td>108.15</td>\n",
       "      <td>1</td>\n",
       "      <td>0</td>\n",
       "      <td>1</td>\n",
       "      <td>1</td>\n",
       "      <td>0</td>\n",
       "      <td>0</td>\n",
       "      <td>1</td>\n",
       "      <td>...</td>\n",
       "      <td>0</td>\n",
       "      <td>1</td>\n",
       "      <td>0</td>\n",
       "      <td>0</td>\n",
       "      <td>0</td>\n",
       "      <td>1</td>\n",
       "      <td>0</td>\n",
       "      <td>0</td>\n",
       "      <td>0</td>\n",
       "      <td>1</td>\n",
       "    </tr>\n",
       "    <tr>\n",
       "      <th>3</th>\n",
       "      <td>45</td>\n",
       "      <td>42.30</td>\n",
       "      <td>1840.75</td>\n",
       "      <td>0</td>\n",
       "      <td>1</td>\n",
       "      <td>0</td>\n",
       "      <td>0</td>\n",
       "      <td>1</td>\n",
       "      <td>0</td>\n",
       "      <td>1</td>\n",
       "      <td>...</td>\n",
       "      <td>0</td>\n",
       "      <td>0</td>\n",
       "      <td>1</td>\n",
       "      <td>0</td>\n",
       "      <td>1</td>\n",
       "      <td>0</td>\n",
       "      <td>1</td>\n",
       "      <td>0</td>\n",
       "      <td>0</td>\n",
       "      <td>0</td>\n",
       "    </tr>\n",
       "    <tr>\n",
       "      <th>4</th>\n",
       "      <td>2</td>\n",
       "      <td>70.70</td>\n",
       "      <td>151.65</td>\n",
       "      <td>1</td>\n",
       "      <td>0</td>\n",
       "      <td>1</td>\n",
       "      <td>1</td>\n",
       "      <td>0</td>\n",
       "      <td>0</td>\n",
       "      <td>0</td>\n",
       "      <td>...</td>\n",
       "      <td>0</td>\n",
       "      <td>1</td>\n",
       "      <td>0</td>\n",
       "      <td>0</td>\n",
       "      <td>0</td>\n",
       "      <td>1</td>\n",
       "      <td>0</td>\n",
       "      <td>0</td>\n",
       "      <td>1</td>\n",
       "      <td>0</td>\n",
       "    </tr>\n",
       "    <tr>\n",
       "      <th>...</th>\n",
       "      <td>...</td>\n",
       "      <td>...</td>\n",
       "      <td>...</td>\n",
       "      <td>...</td>\n",
       "      <td>...</td>\n",
       "      <td>...</td>\n",
       "      <td>...</td>\n",
       "      <td>...</td>\n",
       "      <td>...</td>\n",
       "      <td>...</td>\n",
       "      <td>...</td>\n",
       "      <td>...</td>\n",
       "      <td>...</td>\n",
       "      <td>...</td>\n",
       "      <td>...</td>\n",
       "      <td>...</td>\n",
       "      <td>...</td>\n",
       "      <td>...</td>\n",
       "      <td>...</td>\n",
       "      <td>...</td>\n",
       "      <td>...</td>\n",
       "    </tr>\n",
       "    <tr>\n",
       "      <th>7038</th>\n",
       "      <td>24</td>\n",
       "      <td>84.80</td>\n",
       "      <td>1990.50</td>\n",
       "      <td>0</td>\n",
       "      <td>0</td>\n",
       "      <td>1</td>\n",
       "      <td>0</td>\n",
       "      <td>0</td>\n",
       "      <td>1</td>\n",
       "      <td>1</td>\n",
       "      <td>...</td>\n",
       "      <td>1</td>\n",
       "      <td>0</td>\n",
       "      <td>1</td>\n",
       "      <td>0</td>\n",
       "      <td>0</td>\n",
       "      <td>1</td>\n",
       "      <td>0</td>\n",
       "      <td>0</td>\n",
       "      <td>0</td>\n",
       "      <td>1</td>\n",
       "    </tr>\n",
       "    <tr>\n",
       "      <th>7039</th>\n",
       "      <td>72</td>\n",
       "      <td>103.20</td>\n",
       "      <td>7362.90</td>\n",
       "      <td>0</td>\n",
       "      <td>0</td>\n",
       "      <td>1</td>\n",
       "      <td>0</td>\n",
       "      <td>0</td>\n",
       "      <td>1</td>\n",
       "      <td>0</td>\n",
       "      <td>...</td>\n",
       "      <td>1</td>\n",
       "      <td>0</td>\n",
       "      <td>1</td>\n",
       "      <td>0</td>\n",
       "      <td>0</td>\n",
       "      <td>1</td>\n",
       "      <td>0</td>\n",
       "      <td>1</td>\n",
       "      <td>0</td>\n",
       "      <td>0</td>\n",
       "    </tr>\n",
       "    <tr>\n",
       "      <th>7040</th>\n",
       "      <td>11</td>\n",
       "      <td>29.60</td>\n",
       "      <td>346.45</td>\n",
       "      <td>0</td>\n",
       "      <td>1</td>\n",
       "      <td>0</td>\n",
       "      <td>0</td>\n",
       "      <td>1</td>\n",
       "      <td>0</td>\n",
       "      <td>1</td>\n",
       "      <td>...</td>\n",
       "      <td>0</td>\n",
       "      <td>1</td>\n",
       "      <td>0</td>\n",
       "      <td>0</td>\n",
       "      <td>0</td>\n",
       "      <td>1</td>\n",
       "      <td>0</td>\n",
       "      <td>0</td>\n",
       "      <td>1</td>\n",
       "      <td>0</td>\n",
       "    </tr>\n",
       "    <tr>\n",
       "      <th>7041</th>\n",
       "      <td>4</td>\n",
       "      <td>74.40</td>\n",
       "      <td>306.60</td>\n",
       "      <td>1</td>\n",
       "      <td>0</td>\n",
       "      <td>1</td>\n",
       "      <td>0</td>\n",
       "      <td>0</td>\n",
       "      <td>1</td>\n",
       "      <td>0</td>\n",
       "      <td>...</td>\n",
       "      <td>0</td>\n",
       "      <td>1</td>\n",
       "      <td>0</td>\n",
       "      <td>0</td>\n",
       "      <td>0</td>\n",
       "      <td>1</td>\n",
       "      <td>0</td>\n",
       "      <td>0</td>\n",
       "      <td>0</td>\n",
       "      <td>1</td>\n",
       "    </tr>\n",
       "    <tr>\n",
       "      <th>7042</th>\n",
       "      <td>66</td>\n",
       "      <td>105.65</td>\n",
       "      <td>6844.50</td>\n",
       "      <td>0</td>\n",
       "      <td>0</td>\n",
       "      <td>1</td>\n",
       "      <td>1</td>\n",
       "      <td>0</td>\n",
       "      <td>0</td>\n",
       "      <td>0</td>\n",
       "      <td>...</td>\n",
       "      <td>1</td>\n",
       "      <td>0</td>\n",
       "      <td>0</td>\n",
       "      <td>1</td>\n",
       "      <td>0</td>\n",
       "      <td>1</td>\n",
       "      <td>1</td>\n",
       "      <td>0</td>\n",
       "      <td>0</td>\n",
       "      <td>0</td>\n",
       "    </tr>\n",
       "  </tbody>\n",
       "</table>\n",
       "<p>7043 rows × 39 columns</p>\n",
       "</div>"
      ],
      "text/plain": [
       "      tenure  MonthlyCharges  TotalCharges  Churn  PhoneService_No  \\\n",
       "0          1           29.85         29.85      0                1   \n",
       "1         34           56.95       1889.50      0                0   \n",
       "2          2           53.85        108.15      1                0   \n",
       "3         45           42.30       1840.75      0                1   \n",
       "4          2           70.70        151.65      1                0   \n",
       "...      ...             ...           ...    ...              ...   \n",
       "7038      24           84.80       1990.50      0                0   \n",
       "7039      72          103.20       7362.90      0                0   \n",
       "7040      11           29.60        346.45      0                1   \n",
       "7041       4           74.40        306.60      1                0   \n",
       "7042      66          105.65       6844.50      0                0   \n",
       "\n",
       "      PhoneService_Yes  MultipleLines_No  MultipleLines_No phone service  \\\n",
       "0                    0                 0                               1   \n",
       "1                    1                 1                               0   \n",
       "2                    1                 1                               0   \n",
       "3                    0                 0                               1   \n",
       "4                    1                 1                               0   \n",
       "...                ...               ...                             ...   \n",
       "7038                 1                 0                               0   \n",
       "7039                 1                 0                               0   \n",
       "7040                 0                 0                               1   \n",
       "7041                 1                 0                               0   \n",
       "7042                 1                 1                               0   \n",
       "\n",
       "      MultipleLines_Yes  InternetService_DSL  ...  StreamingMovies_Yes  \\\n",
       "0                     0                    1  ...                    0   \n",
       "1                     0                    1  ...                    0   \n",
       "2                     0                    1  ...                    0   \n",
       "3                     0                    1  ...                    0   \n",
       "4                     0                    0  ...                    0   \n",
       "...                 ...                  ...  ...                  ...   \n",
       "7038                  1                    1  ...                    1   \n",
       "7039                  1                    0  ...                    1   \n",
       "7040                  0                    1  ...                    0   \n",
       "7041                  1                    0  ...                    0   \n",
       "7042                  0                    0  ...                    1   \n",
       "\n",
       "      Contract_Month-to-month  Contract_One year  Contract_Two year  \\\n",
       "0                           1                  0                  0   \n",
       "1                           0                  1                  0   \n",
       "2                           1                  0                  0   \n",
       "3                           0                  1                  0   \n",
       "4                           1                  0                  0   \n",
       "...                       ...                ...                ...   \n",
       "7038                        0                  1                  0   \n",
       "7039                        0                  1                  0   \n",
       "7040                        1                  0                  0   \n",
       "7041                        1                  0                  0   \n",
       "7042                        0                  0                  1   \n",
       "\n",
       "      PaperlessBilling_No  PaperlessBilling_Yes  \\\n",
       "0                       0                     1   \n",
       "1                       1                     0   \n",
       "2                       0                     1   \n",
       "3                       1                     0   \n",
       "4                       0                     1   \n",
       "...                   ...                   ...   \n",
       "7038                    0                     1   \n",
       "7039                    0                     1   \n",
       "7040                    0                     1   \n",
       "7041                    0                     1   \n",
       "7042                    0                     1   \n",
       "\n",
       "      PaymentMethod_Bank transfer (automatic)  \\\n",
       "0                                           0   \n",
       "1                                           0   \n",
       "2                                           0   \n",
       "3                                           1   \n",
       "4                                           0   \n",
       "...                                       ...   \n",
       "7038                                        0   \n",
       "7039                                        0   \n",
       "7040                                        0   \n",
       "7041                                        0   \n",
       "7042                                        1   \n",
       "\n",
       "      PaymentMethod_Credit card (automatic)  PaymentMethod_Electronic check  \\\n",
       "0                                         0                               1   \n",
       "1                                         0                               0   \n",
       "2                                         0                               0   \n",
       "3                                         0                               0   \n",
       "4                                         0                               1   \n",
       "...                                     ...                             ...   \n",
       "7038                                      0                               0   \n",
       "7039                                      1                               0   \n",
       "7040                                      0                               1   \n",
       "7041                                      0                               0   \n",
       "7042                                      0                               0   \n",
       "\n",
       "      PaymentMethod_Mailed check  \n",
       "0                              0  \n",
       "1                              1  \n",
       "2                              1  \n",
       "3                              0  \n",
       "4                              0  \n",
       "...                          ...  \n",
       "7038                           1  \n",
       "7039                           0  \n",
       "7040                           0  \n",
       "7041                           1  \n",
       "7042                           0  \n",
       "\n",
       "[7043 rows x 39 columns]"
      ]
     },
     "execution_count": 25,
     "metadata": {},
     "output_type": "execute_result"
    }
   ],
   "source": [
    "mixed_variables = data.copy()\n",
    "mixed_variables = pd.get_dummies(mixed_variables)\n",
    "mixed_variables"
   ]
  },
  {
   "cell_type": "code",
   "execution_count": 26,
   "id": "c035c57c",
   "metadata": {},
   "outputs": [
    {
     "data": {
      "image/png": "[encoded data removed]",
      "text/plain": [
       "<Figure size 1440x576 with 1 Axes>"
      ]
     },
     "metadata": {
      "needs_background": "light"
     },
     "output_type": "display_data"
    }
   ],
   "source": [
    "plt.figure(figsize=(20,8))\n",
    "mixed_variables.corr()['Churn'].sort_values(ascending = False).plot(kind='bar')\n",
    "plt.show()"
   ]
  },
  {
   "cell_type": "code",
   "execution_count": 27,
   "id": "a66a0320",
   "metadata": {},
   "outputs": [
    {
     "data": {
      "text/plain": [
       "array(['Churn', 'Contract_Month-to-month', 'tenure', 'OnlineSecurity_No',\n",
       "       'TechSupport_No', 'InternetService_Fiber optic',\n",
       "       'Contract_Two year', 'PaymentMethod_Electronic check',\n",
       "       'OnlineBackup_No', 'DeviceProtection_No',\n",
       "       'StreamingMovies_No internet service',\n",
       "       'StreamingTV_No internet service',\n",
       "       'TechSupport_No internet service',\n",
       "       'OnlineBackup_No internet service',\n",
       "       'DeviceProtection_No internet service',\n",
       "       'OnlineSecurity_No internet service', 'InternetService_No'],\n",
       "      dtype=object)"
      ]
     },
     "execution_count": 27,
     "metadata": {},
     "output_type": "execute_result"
    }
   ],
   "source": [
    "chosen_1 = np.abs(mixed_variables.corr()['Churn']).sort_values(ascending=False)[np.abs(mixed_variables.corr()['Churn']).sort_values(ascending=False) >= 0.2].to_frame().index.values\n",
    "chosen_1\n"
   ]
  },
  {
   "cell_type": "code",
   "execution_count": 36,
   "id": "f6854495",
   "metadata": {},
   "outputs": [
    {
     "data": {
      "text/html": [
       "<div>\n",
       "<style scoped>\n",
       "    .dataframe tbody tr th:only-of-type {\n",
       "        vertical-align: middle;\n",
       "    }\n",
       "\n",
       "    .dataframe tbody tr th {\n",
       "        vertical-align: top;\n",
       "    }\n",
       "\n",
       "    .dataframe thead th {\n",
       "        text-align: right;\n",
       "    }\n",
       "</style>\n",
       "<table border=\"1\" class=\"dataframe\">\n",
       "  <thead>\n",
       "    <tr style=\"text-align: right;\">\n",
       "      <th></th>\n",
       "      <th>Contract_Month-to-month</th>\n",
       "      <th>tenure</th>\n",
       "      <th>OnlineSecurity_No</th>\n",
       "      <th>TechSupport_No</th>\n",
       "      <th>InternetService_Fiber optic</th>\n",
       "      <th>Contract_Two year</th>\n",
       "      <th>PaymentMethod_Electronic check</th>\n",
       "      <th>OnlineBackup_No</th>\n",
       "      <th>DeviceProtection_No</th>\n",
       "      <th>StreamingMovies_No internet service</th>\n",
       "      <th>StreamingTV_No internet service</th>\n",
       "      <th>TechSupport_No internet service</th>\n",
       "      <th>OnlineBackup_No internet service</th>\n",
       "      <th>DeviceProtection_No internet service</th>\n",
       "      <th>OnlineSecurity_No internet service</th>\n",
       "      <th>InternetService_No</th>\n",
       "    </tr>\n",
       "  </thead>\n",
       "  <tbody>\n",
       "    <tr>\n",
       "      <th>0</th>\n",
       "      <td>1</td>\n",
       "      <td>1</td>\n",
       "      <td>1</td>\n",
       "      <td>1</td>\n",
       "      <td>0</td>\n",
       "      <td>0</td>\n",
       "      <td>1</td>\n",
       "      <td>0</td>\n",
       "      <td>1</td>\n",
       "      <td>0</td>\n",
       "      <td>0</td>\n",
       "      <td>0</td>\n",
       "      <td>0</td>\n",
       "      <td>0</td>\n",
       "      <td>0</td>\n",
       "      <td>0</td>\n",
       "    </tr>\n",
       "    <tr>\n",
       "      <th>1</th>\n",
       "      <td>0</td>\n",
       "      <td>34</td>\n",
       "      <td>0</td>\n",
       "      <td>1</td>\n",
       "      <td>0</td>\n",
       "      <td>0</td>\n",
       "      <td>0</td>\n",
       "      <td>1</td>\n",
       "      <td>0</td>\n",
       "      <td>0</td>\n",
       "      <td>0</td>\n",
       "      <td>0</td>\n",
       "      <td>0</td>\n",
       "      <td>0</td>\n",
       "      <td>0</td>\n",
       "      <td>0</td>\n",
       "    </tr>\n",
       "    <tr>\n",
       "      <th>2</th>\n",
       "      <td>1</td>\n",
       "      <td>2</td>\n",
       "      <td>0</td>\n",
       "      <td>1</td>\n",
       "      <td>0</td>\n",
       "      <td>0</td>\n",
       "      <td>0</td>\n",
       "      <td>0</td>\n",
       "      <td>1</td>\n",
       "      <td>0</td>\n",
       "      <td>0</td>\n",
       "      <td>0</td>\n",
       "      <td>0</td>\n",
       "      <td>0</td>\n",
       "      <td>0</td>\n",
       "      <td>0</td>\n",
       "    </tr>\n",
       "    <tr>\n",
       "      <th>3</th>\n",
       "      <td>0</td>\n",
       "      <td>45</td>\n",
       "      <td>0</td>\n",
       "      <td>0</td>\n",
       "      <td>0</td>\n",
       "      <td>0</td>\n",
       "      <td>0</td>\n",
       "      <td>1</td>\n",
       "      <td>0</td>\n",
       "      <td>0</td>\n",
       "      <td>0</td>\n",
       "      <td>0</td>\n",
       "      <td>0</td>\n",
       "      <td>0</td>\n",
       "      <td>0</td>\n",
       "      <td>0</td>\n",
       "    </tr>\n",
       "    <tr>\n",
       "      <th>4</th>\n",
       "      <td>1</td>\n",
       "      <td>2</td>\n",
       "      <td>1</td>\n",
       "      <td>1</td>\n",
       "      <td>1</td>\n",
       "      <td>0</td>\n",
       "      <td>1</td>\n",
       "      <td>1</td>\n",
       "      <td>1</td>\n",
       "      <td>0</td>\n",
       "      <td>0</td>\n",
       "      <td>0</td>\n",
       "      <td>0</td>\n",
       "      <td>0</td>\n",
       "      <td>0</td>\n",
       "      <td>0</td>\n",
       "    </tr>\n",
       "    <tr>\n",
       "      <th>...</th>\n",
       "      <td>...</td>\n",
       "      <td>...</td>\n",
       "      <td>...</td>\n",
       "      <td>...</td>\n",
       "      <td>...</td>\n",
       "      <td>...</td>\n",
       "      <td>...</td>\n",
       "      <td>...</td>\n",
       "      <td>...</td>\n",
       "      <td>...</td>\n",
       "      <td>...</td>\n",
       "      <td>...</td>\n",
       "      <td>...</td>\n",
       "      <td>...</td>\n",
       "      <td>...</td>\n",
       "      <td>...</td>\n",
       "    </tr>\n",
       "    <tr>\n",
       "      <th>7038</th>\n",
       "      <td>0</td>\n",
       "      <td>24</td>\n",
       "      <td>0</td>\n",
       "      <td>0</td>\n",
       "      <td>0</td>\n",
       "      <td>0</td>\n",
       "      <td>0</td>\n",
       "      <td>1</td>\n",
       "      <td>0</td>\n",
       "      <td>0</td>\n",
       "      <td>0</td>\n",
       "      <td>0</td>\n",
       "      <td>0</td>\n",
       "      <td>0</td>\n",
       "      <td>0</td>\n",
       "      <td>0</td>\n",
       "    </tr>\n",
       "    <tr>\n",
       "      <th>7039</th>\n",
       "      <td>0</td>\n",
       "      <td>72</td>\n",
       "      <td>1</td>\n",
       "      <td>1</td>\n",
       "      <td>1</td>\n",
       "      <td>0</td>\n",
       "      <td>0</td>\n",
       "      <td>0</td>\n",
       "      <td>0</td>\n",
       "      <td>0</td>\n",
       "      <td>0</td>\n",
       "      <td>0</td>\n",
       "      <td>0</td>\n",
       "      <td>0</td>\n",
       "      <td>0</td>\n",
       "      <td>0</td>\n",
       "    </tr>\n",
       "    <tr>\n",
       "      <th>7040</th>\n",
       "      <td>1</td>\n",
       "      <td>11</td>\n",
       "      <td>0</td>\n",
       "      <td>1</td>\n",
       "      <td>0</td>\n",
       "      <td>0</td>\n",
       "      <td>1</td>\n",
       "      <td>1</td>\n",
       "      <td>1</td>\n",
       "      <td>0</td>\n",
       "      <td>0</td>\n",
       "      <td>0</td>\n",
       "      <td>0</td>\n",
       "      <td>0</td>\n",
       "      <td>0</td>\n",
       "      <td>0</td>\n",
       "    </tr>\n",
       "    <tr>\n",
       "      <th>7041</th>\n",
       "      <td>1</td>\n",
       "      <td>4</td>\n",
       "      <td>1</td>\n",
       "      <td>1</td>\n",
       "      <td>1</td>\n",
       "      <td>0</td>\n",
       "      <td>0</td>\n",
       "      <td>1</td>\n",
       "      <td>1</td>\n",
       "      <td>0</td>\n",
       "      <td>0</td>\n",
       "      <td>0</td>\n",
       "      <td>0</td>\n",
       "      <td>0</td>\n",
       "      <td>0</td>\n",
       "      <td>0</td>\n",
       "    </tr>\n",
       "    <tr>\n",
       "      <th>7042</th>\n",
       "      <td>0</td>\n",
       "      <td>66</td>\n",
       "      <td>0</td>\n",
       "      <td>0</td>\n",
       "      <td>1</td>\n",
       "      <td>1</td>\n",
       "      <td>0</td>\n",
       "      <td>1</td>\n",
       "      <td>0</td>\n",
       "      <td>0</td>\n",
       "      <td>0</td>\n",
       "      <td>0</td>\n",
       "      <td>0</td>\n",
       "      <td>0</td>\n",
       "      <td>0</td>\n",
       "      <td>0</td>\n",
       "    </tr>\n",
       "  </tbody>\n",
       "</table>\n",
       "<p>7043 rows × 16 columns</p>\n",
       "</div>"
      ],
      "text/plain": [
       "      Contract_Month-to-month  tenure  OnlineSecurity_No  TechSupport_No  \\\n",
       "0                           1       1                  1               1   \n",
       "1                           0      34                  0               1   \n",
       "2                           1       2                  0               1   \n",
       "3                           0      45                  0               0   \n",
       "4                           1       2                  1               1   \n",
       "...                       ...     ...                ...             ...   \n",
       "7038                        0      24                  0               0   \n",
       "7039                        0      72                  1               1   \n",
       "7040                        1      11                  0               1   \n",
       "7041                        1       4                  1               1   \n",
       "7042                        0      66                  0               0   \n",
       "\n",
       "      InternetService_Fiber optic  Contract_Two year  \\\n",
       "0                               0                  0   \n",
       "1                               0                  0   \n",
       "2                               0                  0   \n",
       "3                               0                  0   \n",
       "4                               1                  0   \n",
       "...                           ...                ...   \n",
       "7038                            0                  0   \n",
       "7039                            1                  0   \n",
       "7040                            0                  0   \n",
       "7041                            1                  0   \n",
       "7042                            1                  1   \n",
       "\n",
       "      PaymentMethod_Electronic check  OnlineBackup_No  DeviceProtection_No  \\\n",
       "0                                  1                0                    1   \n",
       "1                                  0                1                    0   \n",
       "2                                  0                0                    1   \n",
       "3                                  0                1                    0   \n",
       "4                                  1                1                    1   \n",
       "...                              ...              ...                  ...   \n",
       "7038                               0                1                    0   \n",
       "7039                               0                0                    0   \n",
       "7040                               1                1                    1   \n",
       "7041                               0                1                    1   \n",
       "7042                               0                1                    0   \n",
       "\n",
       "      StreamingMovies_No internet service  StreamingTV_No internet service  \\\n",
       "0                                       0                                0   \n",
       "1                                       0                                0   \n",
       "2                                       0                                0   \n",
       "3                                       0                                0   \n",
       "4                                       0                                0   \n",
       "...                                   ...                              ...   \n",
       "7038                                    0                                0   \n",
       "7039                                    0                                0   \n",
       "7040                                    0                                0   \n",
       "7041                                    0                                0   \n",
       "7042                                    0                                0   \n",
       "\n",
       "      TechSupport_No internet service  OnlineBackup_No internet service  \\\n",
       "0                                   0                                 0   \n",
       "1                                   0                                 0   \n",
       "2                                   0                                 0   \n",
       "3                                   0                                 0   \n",
       "4                                   0                                 0   \n",
       "...                               ...                               ...   \n",
       "7038                                0                                 0   \n",
       "7039                                0                                 0   \n",
       "7040                                0                                 0   \n",
       "7041                                0                                 0   \n",
       "7042                                0                                 0   \n",
       "\n",
       "      DeviceProtection_No internet service  \\\n",
       "0                                        0   \n",
       "1                                        0   \n",
       "2                                        0   \n",
       "3                                        0   \n",
       "4                                        0   \n",
       "...                                    ...   \n",
       "7038                                     0   \n",
       "7039                                     0   \n",
       "7040                                     0   \n",
       "7041                                     0   \n",
       "7042                                     0   \n",
       "\n",
       "      OnlineSecurity_No internet service  InternetService_No  \n",
       "0                                      0                   0  \n",
       "1                                      0                   0  \n",
       "2                                      0                   0  \n",
       "3                                      0                   0  \n",
       "4                                      0                   0  \n",
       "...                                  ...                 ...  \n",
       "7038                                   0                   0  \n",
       "7039                                   0                   0  \n",
       "7040                                   0                   0  \n",
       "7041                                   0                   0  \n",
       "7042                                   0                   0  \n",
       "\n",
       "[7043 rows x 16 columns]"
      ]
     },
     "execution_count": 36,
     "metadata": {},
     "output_type": "execute_result"
    }
   ],
   "source": [
    "mixed_variables = mixed_variables[chosen_1]\n",
    "mixed_variables = mixed_variables.drop(columns = [\"Churn\"])\n",
    "mixed_variables"
   ]
  },
  {
   "cell_type": "code",
   "execution_count": 68,
   "id": "64ce1435",
   "metadata": {},
   "outputs": [],
   "source": [
    "def mse(actual_y, predicted_y):\n",
    "    return np.mean((actual_y - predicted_y)**2)"
   ]
  },
  {
   "cell_type": "code",
   "execution_count": 37,
   "id": "3ab31848",
   "metadata": {},
   "outputs": [],
   "source": [
    "def compute_CV_error(model, X_train, Y_train):\n",
    "    kf = KFold(n_splits=5)\n",
    "    validation_errors = []\n",
    "    \n",
    "    for train_idx, valid_idx in kf.split(X_train):\n",
    "        # split the data\n",
    "        split_X_train, split_X_valid = X_train.iloc[train_idx], X_train.iloc[valid_idx]\n",
    "        split_Y_train, split_Y_valid = Y_train.iloc[train_idx], Y_train.iloc[valid_idx]\n",
    "\n",
    "        # Fit the model on the training split\n",
    "        model.fit(split_X_train, split_Y_train)\n",
    "\n",
    "        # Compute the RMSE on the validation split\n",
    "        error = mse(split_Y_valid, model.predict(split_X_valid))\n",
    "\n",
    "        validation_errors.append(error)\n",
    "        \n",
    "    return np.mean(validation_errors)"
   ]
  },
  {
   "cell_type": "code",
   "execution_count": 97,
   "id": "5a60f3a1",
   "metadata": {},
   "outputs": [],
   "source": [
    "def findingBestNumFeatures(model, X_train, Y_train, X_test, Y_test):\n",
    "    names = []\n",
    "    trainErrors = []\n",
    "    errors = []\n",
    "    recalls = []\n",
    "    accuracies = []\n",
    "    range_of_num_features = range(1, X_train.shape[1] + 1)\n",
    "    for N in range_of_num_features:\n",
    "        names.append(f\"First {N} features\")\n",
    "        # compute the train mse\n",
    "        model.fit(X_train.iloc[:,0:N],Y_train)\n",
    "        trainError = mse(Y_train, model.predict(X_train.iloc[:,0:N]))\n",
    "        trainErrors.append(trainError)\n",
    "        # compute the cross validation error\n",
    "        error = compute_CV_error(model,X_train.iloc[:,0:N],Y_train)\n",
    "        errors.append(error)\n",
    "        # compute the recall\n",
    "        Y_pred = model.predict(X_test.iloc[:,0:N])\n",
    "        recall = recall_score(Y_test, Y_pred)\n",
    "        recalls.append(recall)\n",
    "        # compute the accuracy\n",
    "        accuracy = accuracy_score(Y_test, Y_pred)\n",
    "        accuracies.append(accuracy)\n",
    "\n",
    "        \n",
    "    fig = go.Figure([\n",
    "        go.Bar(x= names, y=trainErrors, name=\"Training MSE\"),\n",
    "        go.Bar(x = names, y=errors, name=\"CV MSE\"),\n",
    "        go.Bar(x = names, y=recalls, name=\"Recalls\"),\n",
    "        go.Bar(x = names, y=accuracies, name=\"Accuracies\")\n",
    "    ])    \n",
    "\n",
    "    best_num_features = np.argmin(errors) + 1\n",
    "    best_err = min(errors)    \n",
    "    the_features = X_train.iloc[:,0:best_num_features].columns.tolist()\n",
    "    best_num_features_recall = np.argmax(recalls) + 1\n",
    "    best_recall = max(recalls)\n",
    "    the_features_recall = X_train.iloc[:,0:best_num_features_recall].columns.tolist()\n",
    "    best_num_features_accuracy = np.argmax(accuracies) + 1\n",
    "    best_accuracy = max(accuracies)\n",
    "    the_features_accuracy = X_train.iloc[:,0:best_num_features_accuracy].columns.tolist()\n",
    "    return [fig, best_num_features, best_err, errors, the_features, best_recall, best_num_features_recall, the_features_recall,\n",
    "           best_num_features_accuracy, best_accuracy, the_features_accuracy]"
   ]
  },
  {
   "cell_type": "code",
   "execution_count": 79,
   "id": "6fb178cf",
   "metadata": {},
   "outputs": [
    {
     "data": {
      "text/html": [
       "<div>\n",
       "<style scoped>\n",
       "    .dataframe tbody tr th:only-of-type {\n",
       "        vertical-align: middle;\n",
       "    }\n",
       "\n",
       "    .dataframe tbody tr th {\n",
       "        vertical-align: top;\n",
       "    }\n",
       "\n",
       "    .dataframe thead th {\n",
       "        text-align: right;\n",
       "    }\n",
       "</style>\n",
       "<table border=\"1\" class=\"dataframe\">\n",
       "  <thead>\n",
       "    <tr style=\"text-align: right;\">\n",
       "      <th></th>\n",
       "      <th>Contract_Month-to-month</th>\n",
       "      <th>tenure</th>\n",
       "      <th>OnlineSecurity_No</th>\n",
       "      <th>TechSupport_No</th>\n",
       "      <th>InternetService_Fiber optic</th>\n",
       "      <th>Contract_Two year</th>\n",
       "      <th>PaymentMethod_Electronic check</th>\n",
       "      <th>OnlineBackup_No</th>\n",
       "      <th>DeviceProtection_No</th>\n",
       "      <th>StreamingMovies_No internet service</th>\n",
       "      <th>StreamingTV_No internet service</th>\n",
       "      <th>TechSupport_No internet service</th>\n",
       "      <th>OnlineBackup_No internet service</th>\n",
       "      <th>DeviceProtection_No internet service</th>\n",
       "      <th>OnlineSecurity_No internet service</th>\n",
       "      <th>InternetService_No</th>\n",
       "    </tr>\n",
       "  </thead>\n",
       "  <tbody>\n",
       "    <tr>\n",
       "      <th>0</th>\n",
       "      <td>1.0</td>\n",
       "      <td>0.013889</td>\n",
       "      <td>1.0</td>\n",
       "      <td>1.0</td>\n",
       "      <td>0.0</td>\n",
       "      <td>0.0</td>\n",
       "      <td>1.0</td>\n",
       "      <td>0.0</td>\n",
       "      <td>1.0</td>\n",
       "      <td>0.0</td>\n",
       "      <td>0.0</td>\n",
       "      <td>0.0</td>\n",
       "      <td>0.0</td>\n",
       "      <td>0.0</td>\n",
       "      <td>0.0</td>\n",
       "      <td>0.0</td>\n",
       "    </tr>\n",
       "    <tr>\n",
       "      <th>1</th>\n",
       "      <td>0.0</td>\n",
       "      <td>0.472222</td>\n",
       "      <td>0.0</td>\n",
       "      <td>1.0</td>\n",
       "      <td>0.0</td>\n",
       "      <td>0.0</td>\n",
       "      <td>0.0</td>\n",
       "      <td>1.0</td>\n",
       "      <td>0.0</td>\n",
       "      <td>0.0</td>\n",
       "      <td>0.0</td>\n",
       "      <td>0.0</td>\n",
       "      <td>0.0</td>\n",
       "      <td>0.0</td>\n",
       "      <td>0.0</td>\n",
       "      <td>0.0</td>\n",
       "    </tr>\n",
       "    <tr>\n",
       "      <th>2</th>\n",
       "      <td>1.0</td>\n",
       "      <td>0.027778</td>\n",
       "      <td>0.0</td>\n",
       "      <td>1.0</td>\n",
       "      <td>0.0</td>\n",
       "      <td>0.0</td>\n",
       "      <td>0.0</td>\n",
       "      <td>0.0</td>\n",
       "      <td>1.0</td>\n",
       "      <td>0.0</td>\n",
       "      <td>0.0</td>\n",
       "      <td>0.0</td>\n",
       "      <td>0.0</td>\n",
       "      <td>0.0</td>\n",
       "      <td>0.0</td>\n",
       "      <td>0.0</td>\n",
       "    </tr>\n",
       "    <tr>\n",
       "      <th>3</th>\n",
       "      <td>0.0</td>\n",
       "      <td>0.625000</td>\n",
       "      <td>0.0</td>\n",
       "      <td>0.0</td>\n",
       "      <td>0.0</td>\n",
       "      <td>0.0</td>\n",
       "      <td>0.0</td>\n",
       "      <td>1.0</td>\n",
       "      <td>0.0</td>\n",
       "      <td>0.0</td>\n",
       "      <td>0.0</td>\n",
       "      <td>0.0</td>\n",
       "      <td>0.0</td>\n",
       "      <td>0.0</td>\n",
       "      <td>0.0</td>\n",
       "      <td>0.0</td>\n",
       "    </tr>\n",
       "    <tr>\n",
       "      <th>4</th>\n",
       "      <td>1.0</td>\n",
       "      <td>0.027778</td>\n",
       "      <td>1.0</td>\n",
       "      <td>1.0</td>\n",
       "      <td>1.0</td>\n",
       "      <td>0.0</td>\n",
       "      <td>1.0</td>\n",
       "      <td>1.0</td>\n",
       "      <td>1.0</td>\n",
       "      <td>0.0</td>\n",
       "      <td>0.0</td>\n",
       "      <td>0.0</td>\n",
       "      <td>0.0</td>\n",
       "      <td>0.0</td>\n",
       "      <td>0.0</td>\n",
       "      <td>0.0</td>\n",
       "    </tr>\n",
       "    <tr>\n",
       "      <th>...</th>\n",
       "      <td>...</td>\n",
       "      <td>...</td>\n",
       "      <td>...</td>\n",
       "      <td>...</td>\n",
       "      <td>...</td>\n",
       "      <td>...</td>\n",
       "      <td>...</td>\n",
       "      <td>...</td>\n",
       "      <td>...</td>\n",
       "      <td>...</td>\n",
       "      <td>...</td>\n",
       "      <td>...</td>\n",
       "      <td>...</td>\n",
       "      <td>...</td>\n",
       "      <td>...</td>\n",
       "      <td>...</td>\n",
       "    </tr>\n",
       "    <tr>\n",
       "      <th>7038</th>\n",
       "      <td>0.0</td>\n",
       "      <td>0.333333</td>\n",
       "      <td>0.0</td>\n",
       "      <td>0.0</td>\n",
       "      <td>0.0</td>\n",
       "      <td>0.0</td>\n",
       "      <td>0.0</td>\n",
       "      <td>1.0</td>\n",
       "      <td>0.0</td>\n",
       "      <td>0.0</td>\n",
       "      <td>0.0</td>\n",
       "      <td>0.0</td>\n",
       "      <td>0.0</td>\n",
       "      <td>0.0</td>\n",
       "      <td>0.0</td>\n",
       "      <td>0.0</td>\n",
       "    </tr>\n",
       "    <tr>\n",
       "      <th>7039</th>\n",
       "      <td>0.0</td>\n",
       "      <td>1.000000</td>\n",
       "      <td>1.0</td>\n",
       "      <td>1.0</td>\n",
       "      <td>1.0</td>\n",
       "      <td>0.0</td>\n",
       "      <td>0.0</td>\n",
       "      <td>0.0</td>\n",
       "      <td>0.0</td>\n",
       "      <td>0.0</td>\n",
       "      <td>0.0</td>\n",
       "      <td>0.0</td>\n",
       "      <td>0.0</td>\n",
       "      <td>0.0</td>\n",
       "      <td>0.0</td>\n",
       "      <td>0.0</td>\n",
       "    </tr>\n",
       "    <tr>\n",
       "      <th>7040</th>\n",
       "      <td>1.0</td>\n",
       "      <td>0.152778</td>\n",
       "      <td>0.0</td>\n",
       "      <td>1.0</td>\n",
       "      <td>0.0</td>\n",
       "      <td>0.0</td>\n",
       "      <td>1.0</td>\n",
       "      <td>1.0</td>\n",
       "      <td>1.0</td>\n",
       "      <td>0.0</td>\n",
       "      <td>0.0</td>\n",
       "      <td>0.0</td>\n",
       "      <td>0.0</td>\n",
       "      <td>0.0</td>\n",
       "      <td>0.0</td>\n",
       "      <td>0.0</td>\n",
       "    </tr>\n",
       "    <tr>\n",
       "      <th>7041</th>\n",
       "      <td>1.0</td>\n",
       "      <td>0.055556</td>\n",
       "      <td>1.0</td>\n",
       "      <td>1.0</td>\n",
       "      <td>1.0</td>\n",
       "      <td>0.0</td>\n",
       "      <td>0.0</td>\n",
       "      <td>1.0</td>\n",
       "      <td>1.0</td>\n",
       "      <td>0.0</td>\n",
       "      <td>0.0</td>\n",
       "      <td>0.0</td>\n",
       "      <td>0.0</td>\n",
       "      <td>0.0</td>\n",
       "      <td>0.0</td>\n",
       "      <td>0.0</td>\n",
       "    </tr>\n",
       "    <tr>\n",
       "      <th>7042</th>\n",
       "      <td>0.0</td>\n",
       "      <td>0.916667</td>\n",
       "      <td>0.0</td>\n",
       "      <td>0.0</td>\n",
       "      <td>1.0</td>\n",
       "      <td>1.0</td>\n",
       "      <td>0.0</td>\n",
       "      <td>1.0</td>\n",
       "      <td>0.0</td>\n",
       "      <td>0.0</td>\n",
       "      <td>0.0</td>\n",
       "      <td>0.0</td>\n",
       "      <td>0.0</td>\n",
       "      <td>0.0</td>\n",
       "      <td>0.0</td>\n",
       "      <td>0.0</td>\n",
       "    </tr>\n",
       "  </tbody>\n",
       "</table>\n",
       "<p>7043 rows × 16 columns</p>\n",
       "</div>"
      ],
      "text/plain": [
       "      Contract_Month-to-month    tenure  OnlineSecurity_No  TechSupport_No  \\\n",
       "0                         1.0  0.013889                1.0             1.0   \n",
       "1                         0.0  0.472222                0.0             1.0   \n",
       "2                         1.0  0.027778                0.0             1.0   \n",
       "3                         0.0  0.625000                0.0             0.0   \n",
       "4                         1.0  0.027778                1.0             1.0   \n",
       "...                       ...       ...                ...             ...   \n",
       "7038                      0.0  0.333333                0.0             0.0   \n",
       "7039                      0.0  1.000000                1.0             1.0   \n",
       "7040                      1.0  0.152778                0.0             1.0   \n",
       "7041                      1.0  0.055556                1.0             1.0   \n",
       "7042                      0.0  0.916667                0.0             0.0   \n",
       "\n",
       "      InternetService_Fiber optic  Contract_Two year  \\\n",
       "0                             0.0                0.0   \n",
       "1                             0.0                0.0   \n",
       "2                             0.0                0.0   \n",
       "3                             0.0                0.0   \n",
       "4                             1.0                0.0   \n",
       "...                           ...                ...   \n",
       "7038                          0.0                0.0   \n",
       "7039                          1.0                0.0   \n",
       "7040                          0.0                0.0   \n",
       "7041                          1.0                0.0   \n",
       "7042                          1.0                1.0   \n",
       "\n",
       "      PaymentMethod_Electronic check  OnlineBackup_No  DeviceProtection_No  \\\n",
       "0                                1.0              0.0                  1.0   \n",
       "1                                0.0              1.0                  0.0   \n",
       "2                                0.0              0.0                  1.0   \n",
       "3                                0.0              1.0                  0.0   \n",
       "4                                1.0              1.0                  1.0   \n",
       "...                              ...              ...                  ...   \n",
       "7038                             0.0              1.0                  0.0   \n",
       "7039                             0.0              0.0                  0.0   \n",
       "7040                             1.0              1.0                  1.0   \n",
       "7041                             0.0              1.0                  1.0   \n",
       "7042                             0.0              1.0                  0.0   \n",
       "\n",
       "      StreamingMovies_No internet service  StreamingTV_No internet service  \\\n",
       "0                                     0.0                              0.0   \n",
       "1                                     0.0                              0.0   \n",
       "2                                     0.0                              0.0   \n",
       "3                                     0.0                              0.0   \n",
       "4                                     0.0                              0.0   \n",
       "...                                   ...                              ...   \n",
       "7038                                  0.0                              0.0   \n",
       "7039                                  0.0                              0.0   \n",
       "7040                                  0.0                              0.0   \n",
       "7041                                  0.0                              0.0   \n",
       "7042                                  0.0                              0.0   \n",
       "\n",
       "      TechSupport_No internet service  OnlineBackup_No internet service  \\\n",
       "0                                 0.0                               0.0   \n",
       "1                                 0.0                               0.0   \n",
       "2                                 0.0                               0.0   \n",
       "3                                 0.0                               0.0   \n",
       "4                                 0.0                               0.0   \n",
       "...                               ...                               ...   \n",
       "7038                              0.0                               0.0   \n",
       "7039                              0.0                               0.0   \n",
       "7040                              0.0                               0.0   \n",
       "7041                              0.0                               0.0   \n",
       "7042                              0.0                               0.0   \n",
       "\n",
       "      DeviceProtection_No internet service  \\\n",
       "0                                      0.0   \n",
       "1                                      0.0   \n",
       "2                                      0.0   \n",
       "3                                      0.0   \n",
       "4                                      0.0   \n",
       "...                                    ...   \n",
       "7038                                   0.0   \n",
       "7039                                   0.0   \n",
       "7040                                   0.0   \n",
       "7041                                   0.0   \n",
       "7042                                   0.0   \n",
       "\n",
       "      OnlineSecurity_No internet service  InternetService_No  \n",
       "0                                    0.0                 0.0  \n",
       "1                                    0.0                 0.0  \n",
       "2                                    0.0                 0.0  \n",
       "3                                    0.0                 0.0  \n",
       "4                                    0.0                 0.0  \n",
       "...                                  ...                 ...  \n",
       "7038                                 0.0                 0.0  \n",
       "7039                                 0.0                 0.0  \n",
       "7040                                 0.0                 0.0  \n",
       "7041                                 0.0                 0.0  \n",
       "7042                                 0.0                 0.0  \n",
       "\n",
       "[7043 rows x 16 columns]"
      ]
     },
     "execution_count": 79,
     "metadata": {},
     "output_type": "execute_result"
    }
   ],
   "source": [
    "# Standardize numerical variables\n",
    "scaler_2 = MinMaxScaler()\n",
    "scaler_2 = scaler_2.fit(mixed_variables)\n",
    "scaled_2 = scaler_2.fit_transform(mixed_variables)\n",
    "scaled_df_2 = pd.DataFrame(scaled_2, columns = mixed_variables.columns)\n",
    "scaled_df_2"
   ]
  },
  {
   "cell_type": "code",
   "execution_count": 80,
   "id": "9ab8d41f",
   "metadata": {},
   "outputs": [],
   "source": [
    "x_2 = scaled_df_2\n",
    "y = data[\"Churn\"]"
   ]
  },
  {
   "cell_type": "code",
   "execution_count": 81,
   "id": "1480e28b",
   "metadata": {},
   "outputs": [
    {
     "name": "stdout",
     "output_type": "stream",
     "text": [
      "Score Scikit learn:  0.7977288857345636\n"
     ]
    }
   ],
   "source": [
    "# Scikit learn implementation just to check\n",
    "x_train_2, x_test_2, y_train_2, y_test_2 = train_test_split(x_2, y, test_size=0.2, random_state=0)\n",
    "lr_model_2 = LogisticRegression(random_state = 0, solver = \"saga\")\n",
    "lr_model_2 = lr_model_2.fit(x_train_2, y_train_2)\n",
    "y_pred_2 = lr_model_2.predict(x_test_2)\n",
    "scikit_score_2 = lr_model_2.score(x_test_2, y_test_2)\n",
    "print(\"Score Scikit learn: \", scikit_score_2)"
   ]
  },
  {
   "cell_type": "code",
   "execution_count": 98,
   "id": "c857e87f",
   "metadata": {},
   "outputs": [],
   "source": [
    "findFeaturesComparison = findingBestNumFeatures(lr_model_2, x_train_2, y_train_2, x_test_2, y_test_2)"
   ]
  },
  {
   "cell_type": "code",
   "execution_count": 92,
   "id": "a63b023f",
   "metadata": {},
   "outputs": [
    {
     "name": "stdout",
     "output_type": "stream",
     "text": [
      "Trying first 1 features\n",
      "\tMSE: 0.2664147101423008\n",
      "Trying first 2 features\n",
      "\tMSE: 0.23979237227364497\n",
      "Trying first 3 features\n",
      "\tMSE: 0.21991328618867426\n",
      "Trying first 4 features\n",
      "\tMSE: 0.21973440546192996\n",
      "Trying first 5 features\n",
      "\tMSE: 0.2122786252503936\n",
      "Trying first 6 features\n",
      "\tMSE: 0.2122784676462291\n",
      "Trying first 7 features\n",
      "\tMSE: 0.20482300264302183\n",
      "Trying first 8 features\n",
      "\tMSE: 0.20251504725760877\n",
      "Trying first 9 features\n",
      "\tMSE: 0.20340283151641997\n",
      "Trying first 10 features\n",
      "\tMSE: 0.2028702870444649\n",
      "Trying first 11 features\n",
      "\tMSE: 0.2028702870444649\n",
      "Trying first 12 features\n",
      "\tMSE: 0.2028702870444649\n",
      "Trying first 13 features\n",
      "\tMSE: 0.2028702870444649\n",
      "Trying first 14 features\n",
      "\tMSE: 0.2028702870444649\n",
      "Trying first 15 features\n",
      "\tMSE: 0.2028702870444649\n",
      "Trying first 16 features\n",
      "\tMSE: 0.2028702870444649\n"
     ]
    }
   ],
   "source": [
    "range_of_num_features = range(1, x_train_2.shape[1] + 1)\n",
    "errors = findFeaturesComparison[3]\n",
    "for N in range_of_num_features:\n",
    "    print(f\"Trying first {N} features\")\n",
    "    # compute the cross validation error\n",
    "    error = errors[N-1]\n",
    "    print(\"\\tMSE:\", error)"
   ]
  },
  {
   "cell_type": "code",
   "execution_count": 100,
   "id": "96203243",
   "metadata": {},
   "outputs": [
    {
     "name": "stdout",
     "output_type": "stream",
     "text": [
      "Best choice, use the first 8 features, which has validation MSE: 0.20251504725760877\n",
      "These features are: ['Contract_Month-to-month', 'tenure', 'OnlineSecurity_No', 'TechSupport_No', 'InternetService_Fiber optic', 'Contract_Two year', 'PaymentMethod_Electronic check', 'OnlineBackup_No']\n",
      "\n",
      "Best choice, use the first: 3 which has recall of: 0.5271739130434783\n",
      "These features are: ['Contract_Month-to-month', 'tenure', 'OnlineSecurity_No']\n",
      "\n",
      "Best choice, use the first: 9 which has accuracy of: 0.7991483321504613\n",
      "These features are: ['Contract_Month-to-month', 'tenure', 'OnlineSecurity_No', 'TechSupport_No', 'InternetService_Fiber optic', 'Contract_Two year', 'PaymentMethod_Electronic check', 'OnlineBackup_No', 'DeviceProtection_No']\n",
      "\n"
     ]
    },
    {
     "data": {
      "application/vnd.plotly.v1+json": {
       "config": {
        "plotlyServerURL": "https://plot.ly"
       },
       "data": [
        {
         "name": "Training MSE",
         "type": "bar",
         "x": [
          "First 1 features",
          "First 2 features",
          "First 3 features",
          "First 4 features",
          "First 5 features",
          "First 6 features",
          "First 7 features",
          "First 8 features",
          "First 9 features",
          "First 10 features",
          "First 11 features",
          "First 12 features",
          "First 13 features",
          "First 14 features",
          "First 15 features",
          "First 16 features"
         ],
         "y": [
          0.26641817536386225,
          0.23855165069222578,
          0.22044728434504793,
          0.21831735889243875,
          0.21157259495917644,
          0.21157259495917644,
          0.2018104366347178,
          0.2025204117855875,
          0.2025204117855875,
          0.20145544905928292,
          0.20145544905928292,
          0.20145544905928292,
          0.20145544905928292,
          0.20145544905928292,
          0.20145544905928292,
          0.20145544905928292
         ]
        },
        {
         "name": "CV MSE",
         "type": "bar",
         "x": [
          "First 1 features",
          "First 2 features",
          "First 3 features",
          "First 4 features",
          "First 5 features",
          "First 6 features",
          "First 7 features",
          "First 8 features",
          "First 9 features",
          "First 10 features",
          "First 11 features",
          "First 12 features",
          "First 13 features",
          "First 14 features",
          "First 15 features",
          "First 16 features"
         ],
         "y": [
          0.2664147101423008,
          0.23979237227364497,
          0.21991328618867426,
          0.21973440546192996,
          0.2122786252503936,
          0.2122784676462291,
          0.20482300264302183,
          0.20251504725760877,
          0.20340283151641997,
          0.2028702870444649,
          0.2028702870444649,
          0.2028702870444649,
          0.2028702870444649,
          0.2028702870444649,
          0.2028702870444649,
          0.2028702870444649
         ]
        },
        {
         "name": "Recalls",
         "type": "bar",
         "x": [
          "First 1 features",
          "First 2 features",
          "First 3 features",
          "First 4 features",
          "First 5 features",
          "First 6 features",
          "First 7 features",
          "First 8 features",
          "First 9 features",
          "First 10 features",
          "First 11 features",
          "First 12 features",
          "First 13 features",
          "First 14 features",
          "First 15 features",
          "First 16 features"
         ],
         "y": [
          0,
          0.3342391304347826,
          0.5271739130434783,
          0.5,
          0.47554347826086957,
          0.47554347826086957,
          0.5054347826086957,
          0.5108695652173914,
          0.5135869565217391,
          0.5081521739130435,
          0.5135869565217391,
          0.5135869565217391,
          0.5135869565217391,
          0.5135869565217391,
          0.5135869565217391,
          0.5135869565217391
         ]
        },
        {
         "name": "Accuracies",
         "type": "bar",
         "x": [
          "First 1 features",
          "First 2 features",
          "First 3 features",
          "First 4 features",
          "First 5 features",
          "First 6 features",
          "First 7 features",
          "First 8 features",
          "First 9 features",
          "First 10 features",
          "First 11 features",
          "First 12 features",
          "First 13 features",
          "First 14 features",
          "First 15 features",
          "First 16 features"
         ],
         "y": [
          0.7388218594748048,
          0.7416607523066004,
          0.7608232789212207,
          0.7700496806245565,
          0.7920511000709723,
          0.7899219304471257,
          0.7955997161107168,
          0.7970191625266146,
          0.7991483321504613,
          0.7955997161107168,
          0.7963094393186657,
          0.7963094393186657,
          0.7970191625266146,
          0.7963094393186657,
          0.7963094393186657,
          0.7963094393186657
         ]
        }
       ],
       "layout": {
        "template": {
         "data": {
          "bar": [
           {
            "error_x": {
             "color": "#2a3f5f"
            },
            "error_y": {
             "color": "#2a3f5f"
            },
            "marker": {
             "line": {
              "color": "#E5ECF6",
              "width": 0.5
             },
             "pattern": {
              "fillmode": "overlay",
              "size": 10,
              "solidity": 0.2
             }
            },
            "type": "bar"
           }
          ],
          "barpolar": [
           {
            "marker": {
             "line": {
              "color": "#E5ECF6",
              "width": 0.5
             },
             "pattern": {
              "fillmode": "overlay",
              "size": 10,
              "solidity": 0.2
             }
            },
            "type": "barpolar"
           }
          ],
          "carpet": [
           {
            "aaxis": {
             "endlinecolor": "#2a3f5f",
             "gridcolor": "white",
             "linecolor": "white",
             "minorgridcolor": "white",
             "startlinecolor": "#2a3f5f"
            },
            "baxis": {
             "endlinecolor": "#2a3f5f",
             "gridcolor": "white",
             "linecolor": "white",
             "minorgridcolor": "white",
             "startlinecolor": "#2a3f5f"
            },
            "type": "carpet"
           }
          ],
          "choropleth": [
           {
            "colorbar": {
             "outlinewidth": 0,
             "ticks": ""
            },
            "type": "choropleth"
           }
          ],
          "contour": [
           {
            "colorbar": {
             "outlinewidth": 0,
             "ticks": ""
            },
            "colorscale": [
             [
              0,
              "#0d0887"
             ],
             [
              0.1111111111111111,
              "#46039f"
             ],
             [
              0.2222222222222222,
              "#7201a8"
             ],
             [
              0.3333333333333333,
              "#9c179e"
             ],
             [
              0.4444444444444444,
              "#bd3786"
             ],
             [
              0.5555555555555556,
              "#d8576b"
             ],
             [
              0.6666666666666666,
              "#ed7953"
             ],
             [
              0.7777777777777778,
              "#fb9f3a"
             ],
             [
              0.8888888888888888,
              "#fdca26"
             ],
             [
              1,
              "#f0f921"
             ]
            ],
            "type": "contour"
           }
          ],
          "contourcarpet": [
           {
            "colorbar": {
             "outlinewidth": 0,
             "ticks": ""
            },
            "type": "contourcarpet"
           }
          ],
          "heatmap": [
           {
            "colorbar": {
             "outlinewidth": 0,
             "ticks": ""
            },
            "colorscale": [
             [
              0,
              "#0d0887"
             ],
             [
              0.1111111111111111,
              "#46039f"
             ],
             [
              0.2222222222222222,
              "#7201a8"
             ],
             [
              0.3333333333333333,
              "#9c179e"
             ],
             [
              0.4444444444444444,
              "#bd3786"
             ],
             [
              0.5555555555555556,
              "#d8576b"
             ],
             [
              0.6666666666666666,
              "#ed7953"
             ],
             [
              0.7777777777777778,
              "#fb9f3a"
             ],
             [
              0.8888888888888888,
              "#fdca26"
             ],
             [
              1,
              "#f0f921"
             ]
            ],
            "type": "heatmap"
           }
          ],
          "heatmapgl": [
           {
            "colorbar": {
             "outlinewidth": 0,
             "ticks": ""
            },
            "colorscale": [
             [
              0,
              "#0d0887"
             ],
             [
              0.1111111111111111,
              "#46039f"
             ],
             [
              0.2222222222222222,
              "#7201a8"
             ],
             [
              0.3333333333333333,
              "#9c179e"
             ],
             [
              0.4444444444444444,
              "#bd3786"
             ],
             [
              0.5555555555555556,
              "#d8576b"
             ],
             [
              0.6666666666666666,
              "#ed7953"
             ],
             [
              0.7777777777777778,
              "#fb9f3a"
             ],
             [
              0.8888888888888888,
              "#fdca26"
             ],
             [
              1,
              "#f0f921"
             ]
            ],
            "type": "heatmapgl"
           }
          ],
          "histogram": [
           {
            "marker": {
             "pattern": {
              "fillmode": "overlay",
              "size": 10,
              "solidity": 0.2
             }
            },
            "type": "histogram"
           }
          ],
          "histogram2d": [
           {
            "colorbar": {
             "outlinewidth": 0,
             "ticks": ""
            },
            "colorscale": [
             [
              0,
              "#0d0887"
             ],
             [
              0.1111111111111111,
              "#46039f"
             ],
             [
              0.2222222222222222,
              "#7201a8"
             ],
             [
              0.3333333333333333,
              "#9c179e"
             ],
             [
              0.4444444444444444,
              "#bd3786"
             ],
             [
              0.5555555555555556,
              "#d8576b"
             ],
             [
              0.6666666666666666,
              "#ed7953"
             ],
             [
              0.7777777777777778,
              "#fb9f3a"
             ],
             [
              0.8888888888888888,
              "#fdca26"
             ],
             [
              1,
              "#f0f921"
             ]
            ],
            "type": "histogram2d"
           }
          ],
          "histogram2dcontour": [
           {
            "colorbar": {
             "outlinewidth": 0,
             "ticks": ""
            },
            "colorscale": [
             [
              0,
              "#0d0887"
             ],
             [
              0.1111111111111111,
              "#46039f"
             ],
             [
              0.2222222222222222,
              "#7201a8"
             ],
             [
              0.3333333333333333,
              "#9c179e"
             ],
             [
              0.4444444444444444,
              "#bd3786"
             ],
             [
              0.5555555555555556,
              "#d8576b"
             ],
             [
              0.6666666666666666,
              "#ed7953"
             ],
             [
              0.7777777777777778,
              "#fb9f3a"
             ],
             [
              0.8888888888888888,
              "#fdca26"
             ],
             [
              1,
              "#f0f921"
             ]
            ],
            "type": "histogram2dcontour"
           }
          ],
          "mesh3d": [
           {
            "colorbar": {
             "outlinewidth": 0,
             "ticks": ""
            },
            "type": "mesh3d"
           }
          ],
          "parcoords": [
           {
            "line": {
             "colorbar": {
              "outlinewidth": 0,
              "ticks": ""
             }
            },
            "type": "parcoords"
           }
          ],
          "pie": [
           {
            "automargin": true,
            "type": "pie"
           }
          ],
          "scatter": [
           {
            "marker": {
             "colorbar": {
              "outlinewidth": 0,
              "ticks": ""
             }
            },
            "type": "scatter"
           }
          ],
          "scatter3d": [
           {
            "line": {
             "colorbar": {
              "outlinewidth": 0,
              "ticks": ""
             }
            },
            "marker": {
             "colorbar": {
              "outlinewidth": 0,
              "ticks": ""
             }
            },
            "type": "scatter3d"
           }
          ],
          "scattercarpet": [
           {
            "marker": {
             "colorbar": {
              "outlinewidth": 0,
              "ticks": ""
             }
            },
            "type": "scattercarpet"
           }
          ],
          "scattergeo": [
           {
            "marker": {
             "colorbar": {
              "outlinewidth": 0,
              "ticks": ""
             }
            },
            "type": "scattergeo"
           }
          ],
          "scattergl": [
           {
            "marker": {
             "colorbar": {
              "outlinewidth": 0,
              "ticks": ""
             }
            },
            "type": "scattergl"
           }
          ],
          "scattermapbox": [
           {
            "marker": {
             "colorbar": {
              "outlinewidth": 0,
              "ticks": ""
             }
            },
            "type": "scattermapbox"
           }
          ],
          "scatterpolar": [
           {
            "marker": {
             "colorbar": {
              "outlinewidth": 0,
              "ticks": ""
             }
            },
            "type": "scatterpolar"
           }
          ],
          "scatterpolargl": [
           {
            "marker": {
             "colorbar": {
              "outlinewidth": 0,
              "ticks": ""
             }
            },
            "type": "scatterpolargl"
           }
          ],
          "scatterternary": [
           {
            "marker": {
             "colorbar": {
              "outlinewidth": 0,
              "ticks": ""
             }
            },
            "type": "scatterternary"
           }
          ],
          "surface": [
           {
            "colorbar": {
             "outlinewidth": 0,
             "ticks": ""
            },
            "colorscale": [
             [
              0,
              "#0d0887"
             ],
             [
              0.1111111111111111,
              "#46039f"
             ],
             [
              0.2222222222222222,
              "#7201a8"
             ],
             [
              0.3333333333333333,
              "#9c179e"
             ],
             [
              0.4444444444444444,
              "#bd3786"
             ],
             [
              0.5555555555555556,
              "#d8576b"
             ],
             [
              0.6666666666666666,
              "#ed7953"
             ],
             [
              0.7777777777777778,
              "#fb9f3a"
             ],
             [
              0.8888888888888888,
              "#fdca26"
             ],
             [
              1,
              "#f0f921"
             ]
            ],
            "type": "surface"
           }
          ],
          "table": [
           {
            "cells": {
             "fill": {
              "color": "#EBF0F8"
             },
             "line": {
              "color": "white"
             }
            },
            "header": {
             "fill": {
              "color": "#C8D4E3"
             },
             "line": {
              "color": "white"
             }
            },
            "type": "table"
           }
          ]
         },
         "layout": {
          "annotationdefaults": {
           "arrowcolor": "#2a3f5f",
           "arrowhead": 0,
           "arrowwidth": 1
          },
          "autotypenumbers": "strict",
          "coloraxis": {
           "colorbar": {
            "outlinewidth": 0,
            "ticks": ""
           }
          },
          "colorscale": {
           "diverging": [
            [
             0,
             "#8e0152"
            ],
            [
             0.1,
             "#c51b7d"
            ],
            [
             0.2,
             "#de77ae"
            ],
            [
             0.3,
             "#f1b6da"
            ],
            [
             0.4,
             "#fde0ef"
            ],
            [
             0.5,
             "#f7f7f7"
            ],
            [
             0.6,
             "#e6f5d0"
            ],
            [
             0.7,
             "#b8e186"
            ],
            [
             0.8,
             "#7fbc41"
            ],
            [
             0.9,
             "#4d9221"
            ],
            [
             1,
             "#276419"
            ]
           ],
           "sequential": [
            [
             0,
             "#0d0887"
            ],
            [
             0.1111111111111111,
             "#46039f"
            ],
            [
             0.2222222222222222,
             "#7201a8"
            ],
            [
             0.3333333333333333,
             "#9c179e"
            ],
            [
             0.4444444444444444,
             "#bd3786"
            ],
            [
             0.5555555555555556,
             "#d8576b"
            ],
            [
             0.6666666666666666,
             "#ed7953"
            ],
            [
             0.7777777777777778,
             "#fb9f3a"
            ],
            [
             0.8888888888888888,
             "#fdca26"
            ],
            [
             1,
             "#f0f921"
            ]
           ],
           "sequentialminus": [
            [
             0,
             "#0d0887"
            ],
            [
             0.1111111111111111,
             "#46039f"
            ],
            [
             0.2222222222222222,
             "#7201a8"
            ],
            [
             0.3333333333333333,
             "#9c179e"
            ],
            [
             0.4444444444444444,
             "#bd3786"
            ],
            [
             0.5555555555555556,
             "#d8576b"
            ],
            [
             0.6666666666666666,
             "#ed7953"
            ],
            [
             0.7777777777777778,
             "#fb9f3a"
            ],
            [
             0.8888888888888888,
             "#fdca26"
            ],
            [
             1,
             "#f0f921"
            ]
           ]
          },
          "colorway": [
           "#636efa",
           "#EF553B",
           "#00cc96",
           "#ab63fa",
           "#FFA15A",
           "#19d3f3",
           "#FF6692",
           "#B6E880",
           "#FF97FF",
           "#FECB52"
          ],
          "font": {
           "color": "#2a3f5f"
          },
          "geo": {
           "bgcolor": "white",
           "lakecolor": "white",
           "landcolor": "#E5ECF6",
           "showlakes": true,
           "showland": true,
           "subunitcolor": "white"
          },
          "hoverlabel": {
           "align": "left"
          },
          "hovermode": "closest",
          "mapbox": {
           "style": "light"
          },
          "paper_bgcolor": "white",
          "plot_bgcolor": "#E5ECF6",
          "polar": {
           "angularaxis": {
            "gridcolor": "white",
            "linecolor": "white",
            "ticks": ""
           },
           "bgcolor": "#E5ECF6",
           "radialaxis": {
            "gridcolor": "white",
            "linecolor": "white",
            "ticks": ""
           }
          },
          "scene": {
           "xaxis": {
            "backgroundcolor": "#E5ECF6",
            "gridcolor": "white",
            "gridwidth": 2,
            "linecolor": "white",
            "showbackground": true,
            "ticks": "",
            "zerolinecolor": "white"
           },
           "yaxis": {
            "backgroundcolor": "#E5ECF6",
            "gridcolor": "white",
            "gridwidth": 2,
            "linecolor": "white",
            "showbackground": true,
            "ticks": "",
            "zerolinecolor": "white"
           },
           "zaxis": {
            "backgroundcolor": "#E5ECF6",
            "gridcolor": "white",
            "gridwidth": 2,
            "linecolor": "white",
            "showbackground": true,
            "ticks": "",
            "zerolinecolor": "white"
           }
          },
          "shapedefaults": {
           "line": {
            "color": "#2a3f5f"
           }
          },
          "ternary": {
           "aaxis": {
            "gridcolor": "white",
            "linecolor": "white",
            "ticks": ""
           },
           "baxis": {
            "gridcolor": "white",
            "linecolor": "white",
            "ticks": ""
           },
           "bgcolor": "#E5ECF6",
           "caxis": {
            "gridcolor": "white",
            "linecolor": "white",
            "ticks": ""
           }
          },
          "title": {
           "x": 0.05
          },
          "xaxis": {
           "automargin": true,
           "gridcolor": "white",
           "linecolor": "white",
           "ticks": "",
           "title": {
            "standoff": 15
           },
           "zerolinecolor": "white",
           "zerolinewidth": 2
          },
          "yaxis": {
           "automargin": true,
           "gridcolor": "white",
           "linecolor": "white",
           "ticks": "",
           "title": {
            "standoff": 15
           },
           "zerolinecolor": "white",
           "zerolinewidth": 2
          }
         }
        }
       }
      },
      "text/html": [
       "<div>                            <div id=\"f68f0aab-3458-4674-b910-d5685f18a3f5\" class=\"plotly-graph-div\" style=\"height:525px; width:100%;\"></div>            <script type=\"text/javascript\">                require([\"plotly\"], function(Plotly) {                    window.PLOTLYENV=window.PLOTLYENV || {};                                    if (document.getElementById(\"f68f0aab-3458-4674-b910-d5685f18a3f5\")) {                    Plotly.newPlot(                        \"f68f0aab-3458-4674-b910-d5685f18a3f5\",                        [{\"name\":\"Training MSE\",\"type\":\"bar\",\"x\":[\"First 1 features\",\"First 2 features\",\"First 3 features\",\"First 4 features\",\"First 5 features\",\"First 6 features\",\"First 7 features\",\"First 8 features\",\"First 9 features\",\"First 10 features\",\"First 11 features\",\"First 12 features\",\"First 13 features\",\"First 14 features\",\"First 15 features\",\"First 16 features\"],\"y\":[0.26641817536386225,0.23855165069222578,0.22044728434504793,0.21831735889243875,0.21157259495917644,0.21157259495917644,0.2018104366347178,0.2025204117855875,0.2025204117855875,0.20145544905928292,0.20145544905928292,0.20145544905928292,0.20145544905928292,0.20145544905928292,0.20145544905928292,0.20145544905928292]},{\"name\":\"CV MSE\",\"type\":\"bar\",\"x\":[\"First 1 features\",\"First 2 features\",\"First 3 features\",\"First 4 features\",\"First 5 features\",\"First 6 features\",\"First 7 features\",\"First 8 features\",\"First 9 features\",\"First 10 features\",\"First 11 features\",\"First 12 features\",\"First 13 features\",\"First 14 features\",\"First 15 features\",\"First 16 features\"],\"y\":[0.2664147101423008,0.23979237227364497,0.21991328618867426,0.21973440546192996,0.2122786252503936,0.2122784676462291,0.20482300264302183,0.20251504725760877,0.20340283151641997,0.2028702870444649,0.2028702870444649,0.2028702870444649,0.2028702870444649,0.2028702870444649,0.2028702870444649,0.2028702870444649]},{\"name\":\"Recalls\",\"type\":\"bar\",\"x\":[\"First 1 features\",\"First 2 features\",\"First 3 features\",\"First 4 features\",\"First 5 features\",\"First 6 features\",\"First 7 features\",\"First 8 features\",\"First 9 features\",\"First 10 features\",\"First 11 features\",\"First 12 features\",\"First 13 features\",\"First 14 features\",\"First 15 features\",\"First 16 features\"],\"y\":[0.0,0.3342391304347826,0.5271739130434783,0.5,0.47554347826086957,0.47554347826086957,0.5054347826086957,0.5108695652173914,0.5135869565217391,0.5081521739130435,0.5135869565217391,0.5135869565217391,0.5135869565217391,0.5135869565217391,0.5135869565217391,0.5135869565217391]},{\"name\":\"Accuracies\",\"type\":\"bar\",\"x\":[\"First 1 features\",\"First 2 features\",\"First 3 features\",\"First 4 features\",\"First 5 features\",\"First 6 features\",\"First 7 features\",\"First 8 features\",\"First 9 features\",\"First 10 features\",\"First 11 features\",\"First 12 features\",\"First 13 features\",\"First 14 features\",\"First 15 features\",\"First 16 features\"],\"y\":[0.7388218594748048,0.7416607523066004,0.7608232789212207,0.7700496806245565,0.7920511000709723,0.7899219304471257,0.7955997161107168,0.7970191625266146,0.7991483321504613,0.7955997161107168,0.7963094393186657,0.7963094393186657,0.7970191625266146,0.7963094393186657,0.7963094393186657,0.7963094393186657]}],                        {\"template\":{\"data\":{\"bar\":[{\"error_x\":{\"color\":\"#2a3f5f\"},\"error_y\":{\"color\":\"#2a3f5f\"},\"marker\":{\"line\":{\"color\":\"#E5ECF6\",\"width\":0.5},\"pattern\":{\"fillmode\":\"overlay\",\"size\":10,\"solidity\":0.2}},\"type\":\"bar\"}],\"barpolar\":[{\"marker\":{\"line\":{\"color\":\"#E5ECF6\",\"width\":0.5},\"pattern\":{\"fillmode\":\"overlay\",\"size\":10,\"solidity\":0.2}},\"type\":\"barpolar\"}],\"carpet\":[{\"aaxis\":{\"endlinecolor\":\"#2a3f5f\",\"gridcolor\":\"white\",\"linecolor\":\"white\",\"minorgridcolor\":\"white\",\"startlinecolor\":\"#2a3f5f\"},\"baxis\":{\"endlinecolor\":\"#2a3f5f\",\"gridcolor\":\"white\",\"linecolor\":\"white\",\"minorgridcolor\":\"white\",\"startlinecolor\":\"#2a3f5f\"},\"type\":\"carpet\"}],\"choropleth\":[{\"colorbar\":{\"outlinewidth\":0,\"ticks\":\"\"},\"type\":\"choropleth\"}],\"contour\":[{\"colorbar\":{\"outlinewidth\":0,\"ticks\":\"\"},\"colorscale\":[[0.0,\"#0d0887\"],[0.1111111111111111,\"#46039f\"],[0.2222222222222222,\"#7201a8\"],[0.3333333333333333,\"#9c179e\"],[0.4444444444444444,\"#bd3786\"],[0.5555555555555556,\"#d8576b\"],[0.6666666666666666,\"#ed7953\"],[0.7777777777777778,\"#fb9f3a\"],[0.8888888888888888,\"#fdca26\"],[1.0,\"#f0f921\"]],\"type\":\"contour\"}],\"contourcarpet\":[{\"colorbar\":{\"outlinewidth\":0,\"ticks\":\"\"},\"type\":\"contourcarpet\"}],\"heatmap\":[{\"colorbar\":{\"outlinewidth\":0,\"ticks\":\"\"},\"colorscale\":[[0.0,\"#0d0887\"],[0.1111111111111111,\"#46039f\"],[0.2222222222222222,\"#7201a8\"],[0.3333333333333333,\"#9c179e\"],[0.4444444444444444,\"#bd3786\"],[0.5555555555555556,\"#d8576b\"],[0.6666666666666666,\"#ed7953\"],[0.7777777777777778,\"#fb9f3a\"],[0.8888888888888888,\"#fdca26\"],[1.0,\"#f0f921\"]],\"type\":\"heatmap\"}],\"heatmapgl\":[{\"colorbar\":{\"outlinewidth\":0,\"ticks\":\"\"},\"colorscale\":[[0.0,\"#0d0887\"],[0.1111111111111111,\"#46039f\"],[0.2222222222222222,\"#7201a8\"],[0.3333333333333333,\"#9c179e\"],[0.4444444444444444,\"#bd3786\"],[0.5555555555555556,\"#d8576b\"],[0.6666666666666666,\"#ed7953\"],[0.7777777777777778,\"#fb9f3a\"],[0.8888888888888888,\"#fdca26\"],[1.0,\"#f0f921\"]],\"type\":\"heatmapgl\"}],\"histogram\":[{\"marker\":{\"pattern\":{\"fillmode\":\"overlay\",\"size\":10,\"solidity\":0.2}},\"type\":\"histogram\"}],\"histogram2d\":[{\"colorbar\":{\"outlinewidth\":0,\"ticks\":\"\"},\"colorscale\":[[0.0,\"#0d0887\"],[0.1111111111111111,\"#46039f\"],[0.2222222222222222,\"#7201a8\"],[0.3333333333333333,\"#9c179e\"],[0.4444444444444444,\"#bd3786\"],[0.5555555555555556,\"#d8576b\"],[0.6666666666666666,\"#ed7953\"],[0.7777777777777778,\"#fb9f3a\"],[0.8888888888888888,\"#fdca26\"],[1.0,\"#f0f921\"]],\"type\":\"histogram2d\"}],\"histogram2dcontour\":[{\"colorbar\":{\"outlinewidth\":0,\"ticks\":\"\"},\"colorscale\":[[0.0,\"#0d0887\"],[0.1111111111111111,\"#46039f\"],[0.2222222222222222,\"#7201a8\"],[0.3333333333333333,\"#9c179e\"],[0.4444444444444444,\"#bd3786\"],[0.5555555555555556,\"#d8576b\"],[0.6666666666666666,\"#ed7953\"],[0.7777777777777778,\"#fb9f3a\"],[0.8888888888888888,\"#fdca26\"],[1.0,\"#f0f921\"]],\"type\":\"histogram2dcontour\"}],\"mesh3d\":[{\"colorbar\":{\"outlinewidth\":0,\"ticks\":\"\"},\"type\":\"mesh3d\"}],\"parcoords\":[{\"line\":{\"colorbar\":{\"outlinewidth\":0,\"ticks\":\"\"}},\"type\":\"parcoords\"}],\"pie\":[{\"automargin\":true,\"type\":\"pie\"}],\"scatter\":[{\"marker\":{\"colorbar\":{\"outlinewidth\":0,\"ticks\":\"\"}},\"type\":\"scatter\"}],\"scatter3d\":[{\"line\":{\"colorbar\":{\"outlinewidth\":0,\"ticks\":\"\"}},\"marker\":{\"colorbar\":{\"outlinewidth\":0,\"ticks\":\"\"}},\"type\":\"scatter3d\"}],\"scattercarpet\":[{\"marker\":{\"colorbar\":{\"outlinewidth\":0,\"ticks\":\"\"}},\"type\":\"scattercarpet\"}],\"scattergeo\":[{\"marker\":{\"colorbar\":{\"outlinewidth\":0,\"ticks\":\"\"}},\"type\":\"scattergeo\"}],\"scattergl\":[{\"marker\":{\"colorbar\":{\"outlinewidth\":0,\"ticks\":\"\"}},\"type\":\"scattergl\"}],\"scattermapbox\":[{\"marker\":{\"colorbar\":{\"outlinewidth\":0,\"ticks\":\"\"}},\"type\":\"scattermapbox\"}],\"scatterpolar\":[{\"marker\":{\"colorbar\":{\"outlinewidth\":0,\"ticks\":\"\"}},\"type\":\"scatterpolar\"}],\"scatterpolargl\":[{\"marker\":{\"colorbar\":{\"outlinewidth\":0,\"ticks\":\"\"}},\"type\":\"scatterpolargl\"}],\"scatterternary\":[{\"marker\":{\"colorbar\":{\"outlinewidth\":0,\"ticks\":\"\"}},\"type\":\"scatterternary\"}],\"surface\":[{\"colorbar\":{\"outlinewidth\":0,\"ticks\":\"\"},\"colorscale\":[[0.0,\"#0d0887\"],[0.1111111111111111,\"#46039f\"],[0.2222222222222222,\"#7201a8\"],[0.3333333333333333,\"#9c179e\"],[0.4444444444444444,\"#bd3786\"],[0.5555555555555556,\"#d8576b\"],[0.6666666666666666,\"#ed7953\"],[0.7777777777777778,\"#fb9f3a\"],[0.8888888888888888,\"#fdca26\"],[1.0,\"#f0f921\"]],\"type\":\"surface\"}],\"table\":[{\"cells\":{\"fill\":{\"color\":\"#EBF0F8\"},\"line\":{\"color\":\"white\"}},\"header\":{\"fill\":{\"color\":\"#C8D4E3\"},\"line\":{\"color\":\"white\"}},\"type\":\"table\"}]},\"layout\":{\"annotationdefaults\":{\"arrowcolor\":\"#2a3f5f\",\"arrowhead\":0,\"arrowwidth\":1},\"autotypenumbers\":\"strict\",\"coloraxis\":{\"colorbar\":{\"outlinewidth\":0,\"ticks\":\"\"}},\"colorscale\":{\"diverging\":[[0,\"#8e0152\"],[0.1,\"#c51b7d\"],[0.2,\"#de77ae\"],[0.3,\"#f1b6da\"],[0.4,\"#fde0ef\"],[0.5,\"#f7f7f7\"],[0.6,\"#e6f5d0\"],[0.7,\"#b8e186\"],[0.8,\"#7fbc41\"],[0.9,\"#4d9221\"],[1,\"#276419\"]],\"sequential\":[[0.0,\"#0d0887\"],[0.1111111111111111,\"#46039f\"],[0.2222222222222222,\"#7201a8\"],[0.3333333333333333,\"#9c179e\"],[0.4444444444444444,\"#bd3786\"],[0.5555555555555556,\"#d8576b\"],[0.6666666666666666,\"#ed7953\"],[0.7777777777777778,\"#fb9f3a\"],[0.8888888888888888,\"#fdca26\"],[1.0,\"#f0f921\"]],\"sequentialminus\":[[0.0,\"#0d0887\"],[0.1111111111111111,\"#46039f\"],[0.2222222222222222,\"#7201a8\"],[0.3333333333333333,\"#9c179e\"],[0.4444444444444444,\"#bd3786\"],[0.5555555555555556,\"#d8576b\"],[0.6666666666666666,\"#ed7953\"],[0.7777777777777778,\"#fb9f3a\"],[0.8888888888888888,\"#fdca26\"],[1.0,\"#f0f921\"]]},\"colorway\":[\"#636efa\",\"#EF553B\",\"#00cc96\",\"#ab63fa\",\"#FFA15A\",\"#19d3f3\",\"#FF6692\",\"#B6E880\",\"#FF97FF\",\"#FECB52\"],\"font\":{\"color\":\"#2a3f5f\"},\"geo\":{\"bgcolor\":\"white\",\"lakecolor\":\"white\",\"landcolor\":\"#E5ECF6\",\"showlakes\":true,\"showland\":true,\"subunitcolor\":\"white\"},\"hoverlabel\":{\"align\":\"left\"},\"hovermode\":\"closest\",\"mapbox\":{\"style\":\"light\"},\"paper_bgcolor\":\"white\",\"plot_bgcolor\":\"#E5ECF6\",\"polar\":{\"angularaxis\":{\"gridcolor\":\"white\",\"linecolor\":\"white\",\"ticks\":\"\"},\"bgcolor\":\"#E5ECF6\",\"radialaxis\":{\"gridcolor\":\"white\",\"linecolor\":\"white\",\"ticks\":\"\"}},\"scene\":{\"xaxis\":{\"backgroundcolor\":\"#E5ECF6\",\"gridcolor\":\"white\",\"gridwidth\":2,\"linecolor\":\"white\",\"showbackground\":true,\"ticks\":\"\",\"zerolinecolor\":\"white\"},\"yaxis\":{\"backgroundcolor\":\"#E5ECF6\",\"gridcolor\":\"white\",\"gridwidth\":2,\"linecolor\":\"white\",\"showbackground\":true,\"ticks\":\"\",\"zerolinecolor\":\"white\"},\"zaxis\":{\"backgroundcolor\":\"#E5ECF6\",\"gridcolor\":\"white\",\"gridwidth\":2,\"linecolor\":\"white\",\"showbackground\":true,\"ticks\":\"\",\"zerolinecolor\":\"white\"}},\"shapedefaults\":{\"line\":{\"color\":\"#2a3f5f\"}},\"ternary\":{\"aaxis\":{\"gridcolor\":\"white\",\"linecolor\":\"white\",\"ticks\":\"\"},\"baxis\":{\"gridcolor\":\"white\",\"linecolor\":\"white\",\"ticks\":\"\"},\"bgcolor\":\"#E5ECF6\",\"caxis\":{\"gridcolor\":\"white\",\"linecolor\":\"white\",\"ticks\":\"\"}},\"title\":{\"x\":0.05},\"xaxis\":{\"automargin\":true,\"gridcolor\":\"white\",\"linecolor\":\"white\",\"ticks\":\"\",\"title\":{\"standoff\":15},\"zerolinecolor\":\"white\",\"zerolinewidth\":2},\"yaxis\":{\"automargin\":true,\"gridcolor\":\"white\",\"linecolor\":\"white\",\"ticks\":\"\",\"title\":{\"standoff\":15},\"zerolinecolor\":\"white\",\"zerolinewidth\":2}}}},                        {\"responsive\": true}                    ).then(function(){\n",
       "                            \n",
       "var gd = document.getElementById('f68f0aab-3458-4674-b910-d5685f18a3f5');\n",
       "var x = new MutationObserver(function (mutations, observer) {{\n",
       "        var display = window.getComputedStyle(gd).display;\n",
       "        if (!display || display === 'none') {{\n",
       "            console.log([gd, 'removed!']);\n",
       "            Plotly.purge(gd);\n",
       "            observer.disconnect();\n",
       "        }}\n",
       "}});\n",
       "\n",
       "// Listen for the removal of the full notebook cells\n",
       "var notebookContainer = gd.closest('#notebook-container');\n",
       "if (notebookContainer) {{\n",
       "    x.observe(notebookContainer, {childList: true});\n",
       "}}\n",
       "\n",
       "// Listen for the clearing of the current output cell\n",
       "var outputEl = gd.closest('.output');\n",
       "if (outputEl) {{\n",
       "    x.observe(outputEl, {childList: true});\n",
       "}}\n",
       "\n",
       "                        })                };                });            </script>        </div>"
      ]
     },
     "metadata": {},
     "output_type": "display_data"
    }
   ],
   "source": [
    "print(f\"Best choice, use the first {findFeaturesComparison[1]} features, which has validation MSE: {findFeaturesComparison[2]}\")\n",
    "print(f\"These features are: {findFeaturesComparison[4]}\\n\")\n",
    "print(f\"Best choice, use the first: {findFeaturesComparison[6]} which has recall of: {findFeaturesComparison[5]}\")\n",
    "print(f\"These features are: {findFeaturesComparison[7]}\\n\")\n",
    "print(f\"Best choice, use the first: {findFeaturesComparison[8]} which has accuracy of: {findFeaturesComparison[9]}\")\n",
    "print(f\"These features are: {findFeaturesComparison[10]}\\n\")\n",
    "\n",
    "fig = findFeaturesComparison[0]\n",
    "fig"
   ]
  }
 ],
 "metadata": {
  "kernelspec": {
   "display_name": "Python 3",
   "language": "python",
   "name": "python3"
  },
  "language_info": {
   "codemirror_mode": {
    "name": "ipython",
    "version": 3
   },
   "file_extension": ".py",
   "mimetype": "text/x-python",
   "name": "python",
   "nbconvert_exporter": "python",
   "pygments_lexer": "ipython3",
   "version": "3.8.8"
  }
 },
 "nbformat": 4,
 "nbformat_minor": 5
}
